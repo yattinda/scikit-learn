{
 "cells": [
  {
   "cell_type": "code",
   "execution_count": 1,
   "metadata": {},
   "outputs": [],
   "source": [
    "import pandas as pd\n",
    "import numpy as np\n",
    "import matplotlib.pyplot as plt\n",
    "import mglearn\n",
    "from sklearn.neural_network import MLPClassifier\n",
    "from sklearn.metrics import f1_score\n",
    "import cv2\n",
    "import csv"
   ]
  },
  {
   "cell_type": "code",
   "execution_count": 2,
   "metadata": {
    "scrolled": true
   },
   "outputs": [],
   "source": [
    "bgr_array = cv2.imread('IMG_LEARN.jpg')\n",
    "sea = pd.read_csv('./sea.csv', header = None)\n",
    "land = pd.read_csv('./land.csv', header = None)\n",
    "sea = sea.values\n",
    "land = land.values\n",
    "bgr = []\n",
    "for i in range(500):\n",
    "    bgr.append(np.append(bgr_array[sea[i][1], sea[i][0], :], 1))\n",
    "\n",
    "for i in range(500):\n",
    "    bgr.append(np.append(bgr_array[land[i][1], land[i][0], :], 2))\n",
    "\n",
    "with open('bgr.csv', 'w') as file:\n",
    "    writer = csv.writer(file, lineterminator='\\n')\n",
    "    writer.writerows(bgr)"
   ]
  },
  {
   "cell_type": "code",
   "execution_count": 3,
   "metadata": {},
   "outputs": [],
   "source": [
    "bgr_array = cv2.imread('IMG_TEST.jpg')\n",
    "answer = pd.read_csv('./answer.csv', header = None)\n",
    "answer = answer.values\n",
    "bgr = []\n",
    "for i in range(5):\n",
    "    bgr.append(np.append(bgr_array[answer[i][1], answer[i][0], :], 1))\n",
    "for i in range(5,15):\n",
    "    bgr.append(np.append(bgr_array[answer[i][1], answer[i][0], :], 2))\n",
    "\n",
    "with open('answer_bgr.csv', 'w') as file:\n",
    "    writer = csv.writer(file, lineterminator='\\n')\n",
    "    writer.writerows(bgr)"
   ]
  },
  {
   "cell_type": "code",
   "execution_count": 4,
   "metadata": {
    "scrolled": true
   },
   "outputs": [
    {
     "name": "stdout",
     "output_type": "stream",
     "text": [
      "Accuracy on training set: 0.988\n",
      "Accuracy on test set: 0.744\n",
      "Max on training set: 1.000\n"
     ]
    }
   ],
   "source": [
    "data = pd.read_csv('./bgr.csv', header = None)\n",
    "test = pd.read_csv('./answer_bgr.csv', header = None)\n",
    "data = data.values\n",
    "test = test.values\n",
    "X_data = data[:,:-1]\n",
    "y_data = data[:,-1]\n",
    "X_test = test[:,:-1]\n",
    "y_test = test[:,-1]\n",
    "sum_train = 0\n",
    "sum_test = 0\n",
    "max_test = 0\n",
    "\n",
    "for i in range(50):\n",
    "    mlp = MLPClassifier(solver = \"lbfgs\", max_iter = 500, hidden_layer_sizes = [10]).fit(X_data, y_data)\n",
    "    predict = mlp.predict(X_test)\n",
    "    predict_sea = predict[0:5]\n",
    "    predict_land = predict[5:]\n",
    "    if max_test < mlp.score(X_test, y_test):\n",
    "        max_test = mlp.score(X_test, y_test)\n",
    "    sum_train += mlp.score(X_data, y_data)\n",
    "    sum_test += mlp.score(X_test, y_test)\n",
    "\n",
    "predict = mlp.predict(X_test)\n",
    "predict_sea = predict[0:5]\n",
    "predict_land = predict[5:]\n",
    "\n",
    "# print(\"予測結果 \\n sea:{} \\n land:{}\".format(predict_sea, predict_land))\n",
    "print(\"Accuracy on training set: {:.3f}\".format(sum_train/50))\n",
    "print(\"Accuracy on test set: {:.3f}\".format(sum_test/50))\n",
    "print(\"Max on training set: {:.3f}\".format(max_test))\n",
    "# print(\"F1 score: {:.4f}\".format(f1_score(y_test, predict)))"
   ]
  },
  {
   "cell_type": "code",
   "execution_count": 5,
   "metadata": {},
   "outputs": [
    {
     "name": "stderr",
     "output_type": "stream",
     "text": [
      "/home/yattinda/.local/lib/python3.8/site-packages/sklearn/neural_network/_multilayer_perceptron.py:549: ConvergenceWarning: lbfgs failed to converge (status=2):\n",
      "ABNORMAL_TERMINATION_IN_LNSRCH.\n",
      "\n",
      "Increase the number of iterations (max_iter) or scale the data as shown in:\n",
      "    https://scikit-learn.org/stable/modules/preprocessing.html\n",
      "  self.n_iter_ = _check_optimize_result(\"lbfgs\", opt_res, self.max_iter)\n",
      "/home/yattinda/.local/lib/python3.8/site-packages/sklearn/neural_network/_multilayer_perceptron.py:549: ConvergenceWarning: lbfgs failed to converge (status=2):\n",
      "ABNORMAL_TERMINATION_IN_LNSRCH.\n",
      "\n",
      "Increase the number of iterations (max_iter) or scale the data as shown in:\n",
      "    https://scikit-learn.org/stable/modules/preprocessing.html\n",
      "  self.n_iter_ = _check_optimize_result(\"lbfgs\", opt_res, self.max_iter)\n"
     ]
    },
    {
     "name": "stdout",
     "output_type": "stream",
     "text": [
      "Accuracy on training set: 0.928\n",
      "Accuracy on test set: 0.721\n",
      "Max on training set: 0.933\n"
     ]
    }
   ],
   "source": [
    "sum_train = 0\n",
    "sum_test = 0\n",
    "max_test = 0\n",
    "\n",
    "for i in range(50):\n",
    "    mlp = MLPClassifier(solver = \"lbfgs\", max_iter = 500, hidden_layer_sizes = [5]).fit(X_data, y_data)\n",
    "    predict = mlp.predict(X_test)\n",
    "    predict_sea = predict[0:5]\n",
    "    predict_land = predict[5:]\n",
    "    if max_test < mlp.score(X_test, y_test):\n",
    "        max_test = mlp.score(X_test, y_test)\n",
    "    sum_train += mlp.score(X_data, y_data)\n",
    "    sum_test += mlp.score(X_test, y_test)\n",
    "    \n",
    "predict = mlp.predict(X_test)\n",
    "predict_sea = predict[0:5]\n",
    "predict_land = predict[5:]\n",
    "# print(\"予測結果 \\n sea:{} \\n land:{}\".format(predict_sea, predict_land))\n",
    "print(\"Accuracy on training set: {:.3f}\".format(sum_train/50))\n",
    "print(\"Accuracy on test set: {:.3f}\".format(sum_test/50))\n",
    "print(\"Max on training set: {:.3f}\".format(max_test))\n",
    "# print(\"F1 score: {:.4f}\".format(f1_score(y_test, predict)))"
   ]
  },
  {
   "cell_type": "code",
   "execution_count": 6,
   "metadata": {},
   "outputs": [
    {
     "name": "stdout",
     "output_type": "stream",
     "text": [
      "Accuracy on training set: 0.769\n",
      "Accuracy on test set: 0.637\n",
      "Max on training set: 0.933\n"
     ]
    }
   ],
   "source": [
    "sum_train = 0\n",
    "sum_test = 0\n",
    "max_test = 0\n",
    "\n",
    "for i in range(50):\n",
    "    mlp = MLPClassifier(solver = \"lbfgs\", max_iter = 500, hidden_layer_sizes = [3]).fit(X_data, y_data)\n",
    "    predict = mlp.predict(X_test)\n",
    "    predict_sea = predict[0:5]\n",
    "    predict_land = predict[5:]\n",
    "    if max_test < mlp.score(X_test, y_test):\n",
    "        max_test = mlp.score(X_test, y_test)\n",
    "    sum_train += mlp.score(X_data, y_data)\n",
    "    sum_test += mlp.score(X_test, y_test)\n",
    "    \n",
    "predict = mlp.predict(X_test)\n",
    "predict_sea = predict[0:5]\n",
    "predict_land = predict[5:]\n",
    "# print(\"予測結果 \\n sea:{} \\n land:{}\".format(predict_sea, predict_land))\n",
    "print(\"Accuracy on training set: {:.3f}\".format(sum_train/50))\n",
    "print(\"Accuracy on test set: {:.3f}\".format(sum_test/50))\n",
    "print(\"Max on training set: {:.3f}\".format(max_test))\n",
    "# print(\"F1 score: {:.4f}\".format(f1_score(y_test, predict)))"
   ]
  },
  {
   "cell_type": "code",
   "execution_count": 7,
   "metadata": {},
   "outputs": [
    {
     "name": "stdout",
     "output_type": "stream",
     "text": [
      "Accuracy on training set: 0.979\n",
      "Accuracy on test set: 0.768\n",
      "Max on training set: 1.000\n"
     ]
    }
   ],
   "source": [
    "sum_train = 0\n",
    "sum_test = 0\n",
    "max_test = 0\n",
    "\n",
    "for i in range(50):\n",
    "    mlp = MLPClassifier(solver = \"lbfgs\", max_iter = 500, hidden_layer_sizes = [10, 10]).fit(X_data, y_data)\n",
    "    predict = mlp.predict(X_test)\n",
    "    predict_sea = predict[0:5]\n",
    "    predict_land = predict[5:]\n",
    "    if max_test < mlp.score(X_test, y_test):\n",
    "        max_test = mlp.score(X_test, y_test)\n",
    "    sum_train += mlp.score(X_data, y_data)\n",
    "    sum_test += mlp.score(X_test, y_test)\n",
    "    \n",
    "predict = mlp.predict(X_test)\n",
    "predict_sea = predict[0:5]\n",
    "predict_land = predict[5:]\n",
    "# print(\"予測結果 \\n sea:{} \\n land:{}\".format(predict_sea, predict_land))\n",
    "print(\"Accuracy on training set: {:.3f}\".format(sum_train/50))\n",
    "print(\"Accuracy on test set: {:.3f}\".format(sum_test/50))\n",
    "print(\"Max on training set: {:.3f}\".format(max_test))\n",
    "# print(\"F1 score: {:.4f}\".format(f1_score(y_test, predict)))"
   ]
  },
  {
   "cell_type": "code",
   "execution_count": 8,
   "metadata": {
    "scrolled": true
   },
   "outputs": [
    {
     "name": "stdout",
     "output_type": "stream",
     "text": [
      "Accuracy on training set: 0.958\n",
      "Accuracy on test set: 0.760\n",
      "Max on training set: 1.000\n"
     ]
    }
   ],
   "source": [
    "sum_train = 0\n",
    "sum_test = 0\n",
    "max_test = 0\n",
    "\n",
    "for i in range(50):\n",
    "    mlp = MLPClassifier(solver = \"lbfgs\", max_iter = 500, hidden_layer_sizes = [7]).fit(X_data, y_data)\n",
    "    predict = mlp.predict(X_test)\n",
    "    predict_sea = predict[0:5]\n",
    "    predict_land = predict[5:]\n",
    "    if max_test < mlp.score(X_test, y_test):\n",
    "        max_test = mlp.score(X_test, y_test)\n",
    "    sum_train += mlp.score(X_data, y_data)\n",
    "    sum_test += mlp.score(X_test, y_test)\n",
    "    \n",
    "predict = mlp.predict(X_test)\n",
    "predict_sea = predict[0:5]\n",
    "predict_land = predict[5:]\n",
    "# print(\"予測結果 \\n sea:{} \\n land:{}\".format(predict_sea, predict_land))\n",
    "print(\"Accuracy on training set: {:.3f}\".format(sum_train/50))\n",
    "print(\"Accuracy on test set: {:.3f}\".format(sum_test/50))\n",
    "print(\"Max on training set: {:.3f}\".format(max_test))\n",
    "# print(\"F1 score: {:.4f}\".format(f1_score(y_test, predict)))"
   ]
  },
  {
   "cell_type": "code",
   "execution_count": 9,
   "metadata": {},
   "outputs": [
    {
     "name": "stdout",
     "output_type": "stream",
     "text": [
      "Accuracy on training set: 0.999\n",
      "Accuracy on test set: 0.733\n",
      "Max on training set: 0.800\n"
     ]
    }
   ],
   "source": [
    "sum_train = 0\n",
    "sum_test = 0\n",
    "max_test = 0\n",
    "\n",
    "for i in range(10):\n",
    "    mlp = MLPClassifier(solver = \"lbfgs\", max_iter = 500, hidden_layer_sizes = [100]).fit(X_data, y_data)\n",
    "    predict = mlp.predict(X_test)\n",
    "    predict_sea = predict[0:5]\n",
    "    predict_land = predict[5:]\n",
    "    if max_test < mlp.score(X_test, y_test):\n",
    "        max_test = mlp.score(X_test, y_test)\n",
    "    sum_train += mlp.score(X_data, y_data)\n",
    "    sum_test += mlp.score(X_test, y_test)\n",
    "    \n",
    "predict = mlp.predict(X_test)\n",
    "predict_sea = predict[0:5]\n",
    "predict_land = predict[5:]\n",
    "# print(\"予測結果 \\n sea:{} \\n land:{}\".format(predict_sea, predict_land))\n",
    "print(\"Accuracy on training set: {:.3f}\".format(sum_train/10))\n",
    "print(\"Accuracy on test set: {:.3f}\".format(sum_test/10))\n",
    "print(\"Max on training set: {:.3f}\".format(max_test))\n",
    "# print(\"F1 score: {:.4f}\".format(f1_score(y_test, predict)))"
   ]
  },
  {
   "cell_type": "code",
   "execution_count": 10,
   "metadata": {},
   "outputs": [
    {
     "name": "stdout",
     "output_type": "stream",
     "text": [
      "Accuracy on training set: 0.999\n",
      "Accuracy on test set: 0.727\n",
      "Max on training set: 0.933\n"
     ]
    }
   ],
   "source": [
    "sum_train = 0\n",
    "sum_test = 0\n",
    "max_test = 0\n",
    "\n",
    "for i in range(10):\n",
    "    mlp = MLPClassifier(solver = \"lbfgs\", max_iter = 500, hidden_layer_sizes = [100, 100]).fit(X_data, y_data)\n",
    "    predict = mlp.predict(X_test)\n",
    "    predict_sea = predict[0:5]\n",
    "    predict_land = predict[5:]\n",
    "    if max_test < mlp.score(X_test, y_test):\n",
    "        max_test = mlp.score(X_test, y_test)\n",
    "    sum_train += mlp.score(X_data, y_data)\n",
    "    sum_test += mlp.score(X_test, y_test)\n",
    "    \n",
    "predict = mlp.predict(X_test)\n",
    "predict_sea = predict[0:5]\n",
    "predict_land = predict[5:]\n",
    "# print(\"予測結果 \\n sea:{} \\n land:{}\".format(predict_sea, predict_land))\n",
    "print(\"Accuracy on training set: {:.3f}\".format(sum_train/10))\n",
    "print(\"Accuracy on test set: {:.3f}\".format(sum_test/10))\n",
    "print(\"Max on training set: {:.3f}\".format(max_test))\n",
    "# print(\"F1 score: {:.4f}\".format(f1_score(y_test, predict)))"
   ]
  },
  {
   "cell_type": "code",
   "execution_count": 11,
   "metadata": {},
   "outputs": [
    {
     "name": "stdout",
     "output_type": "stream",
     "text": [
      "Accuracy on training set: 0.898\n",
      "Accuracy on test set: 0.713\n",
      "Max on training set: 0.933\n"
     ]
    }
   ],
   "source": [
    "sum_train = 0\n",
    "sum_test = 0\n",
    "max_test = 0\n",
    "\n",
    "for i in range(10):\n",
    "    mlp = MLPClassifier(solver = \"lbfgs\", max_iter = 500, hidden_layer_sizes = [5, 5]).fit(X_data, y_data)\n",
    "    predict = mlp.predict(X_test)\n",
    "    predict_sea = predict[0:5]\n",
    "    predict_land = predict[5:]\n",
    "    if max_test < mlp.score(X_test, y_test):\n",
    "        max_test = mlp.score(X_test, y_test)\n",
    "    sum_train += mlp.score(X_data, y_data)\n",
    "    sum_test += mlp.score(X_test, y_test)\n",
    "    \n",
    "predict = mlp.predict(X_test)\n",
    "predict_sea = predict[0:5]\n",
    "predict_land = predict[5:]\n",
    "# print(\"予測結果 \\n sea:{} \\n land:{}\".format(predict_sea, predict_land))\n",
    "print(\"Accuracy on training set: {:.3f}\".format(sum_train/10))\n",
    "print(\"Accuracy on test set: {:.3f}\".format(sum_test/10))\n",
    "print(\"Max on training set: {:.3f}\".format(max_test))\n",
    "# print(\"F1 score: {:.4f}\".format(f1_score(y_test, predict)))"
   ]
  },
  {
   "cell_type": "code",
   "execution_count": 12,
   "metadata": {},
   "outputs": [
    {
     "name": "stdout",
     "output_type": "stream",
     "text": [
      "Accuracy on training set: 0.949\n",
      "Accuracy on test set: 0.727\n",
      "Max on training set: 0.867\n"
     ]
    }
   ],
   "source": [
    "sum_train = 0\n",
    "sum_test = 0\n",
    "max_test = 0\n",
    "\n",
    "for i in range(10):\n",
    "    mlp = MLPClassifier(solver = \"lbfgs\", max_iter = 500, hidden_layer_sizes = [10, 10, 10]).fit(X_data, y_data)\n",
    "    predict = mlp.predict(X_test)\n",
    "    predict_sea = predict[0:5]\n",
    "    predict_land = predict[5:]\n",
    "    if max_test < mlp.score(X_test, y_test):\n",
    "        max_test = mlp.score(X_test, y_test)\n",
    "    sum_train += mlp.score(X_data, y_data)\n",
    "    sum_test += mlp.score(X_test, y_test)\n",
    "    \n",
    "predict = mlp.predict(X_test)\n",
    "predict_sea = predict[0:5]\n",
    "predict_land = predict[5:]\n",
    "# print(\"予測結果 \\n sea:{} \\n land:{}\".format(predict_sea, predict_land))\n",
    "print(\"Accuracy on training set: {:.3f}\".format(sum_train/10))\n",
    "print(\"Accuracy on test set: {:.3f}\".format(sum_test/10))\n",
    "print(\"Max on training set: {:.3f}\".format(max_test))\n",
    "# print(\"F1 score: {:.4f}\".format(f1_score(y_test, predict)))"
   ]
  },
  {
   "cell_type": "code",
   "execution_count": 13,
   "metadata": {},
   "outputs": [
    {
     "data": {
      "text/plain": [
       "[<matplotlib.lines.Line2D at 0x7fb88dbd1370>]"
      ]
     },
     "execution_count": 13,
     "metadata": {},
     "output_type": "execute_result"
    },
    {
     "data": {
      "image/png": "[encoded data removed]",
      "text/plain": [
       "<Figure size 432x288 with 1 Axes>"
      ]
     },
     "metadata": {
      "needs_background": "light"
     },
     "output_type": "display_data"
    }
   ],
   "source": [
    "x = []\n",
    "y_f1_1 = []\n",
    "y_score_1 = []\n",
    "for i in range(2, 50, 2):\n",
    "    mlp = MLPClassifier(solver = \"lbfgs\", max_iter = 500, hidden_layer_sizes = [i]).fit(X_data, y_data)\n",
    "    predict = mlp.predict(X_test)\n",
    "    x.append(i)\n",
    "    y_f1_1.append(f1_score(y_test, predict))\n",
    "    y_score_1.append(mlp.score(X_test, y_test))\n",
    "\n",
    "plt.plot(x, y_f1_1, color = \"red\")\n",
    "plt.plot(x, y_score_1)"
   ]
  },
  {
   "cell_type": "code",
   "execution_count": 14,
   "metadata": {},
   "outputs": [
    {
     "data": {
      "text/plain": [
       "[<matplotlib.lines.Line2D at 0x7fb88db1a910>]"
      ]
     },
     "execution_count": 14,
     "metadata": {},
     "output_type": "execute_result"
    },
    {
     "data": {
      "image/png": "[encoded data removed]",
      "text/plain": [
       "<Figure size 432x288 with 1 Axes>"
      ]
     },
     "metadata": {
      "needs_background": "light"
     },
     "output_type": "display_data"
    }
   ],
   "source": [
    "x_2 = []\n",
    "y_f1_2 = []\n",
    "y_score_2 = []\n",
    "for i in range(2, 50, 2):\n",
    "    mlp = MLPClassifier(solver = \"lbfgs\", max_iter = 500, hidden_layer_sizes = [i, i]).fit(X_data, y_data)\n",
    "    predict = mlp.predict(X_test)\n",
    "    x_2.append(i)\n",
    "    y_f1_2.append(f1_score(y_test, predict))\n",
    "    y_score_2.append(mlp.score(X_test, y_test))\n",
    "\n",
    "plt.plot(x_2, y_f1_2, color = \"red\")\n",
    "plt.plot(x_2, y_score_2)"
   ]
  },
  {
   "cell_type": "code",
   "execution_count": 15,
   "metadata": {},
   "outputs": [
    {
     "name": "stderr",
     "output_type": "stream",
     "text": [
      "/home/yattinda/.local/lib/python3.8/site-packages/sklearn/neural_network/_multilayer_perceptron.py:549: ConvergenceWarning: lbfgs failed to converge (status=1):\n",
      "STOP: TOTAL NO. of ITERATIONS REACHED LIMIT.\n",
      "\n",
      "Increase the number of iterations (max_iter) or scale the data as shown in:\n",
      "    https://scikit-learn.org/stable/modules/preprocessing.html\n",
      "  self.n_iter_ = _check_optimize_result(\"lbfgs\", opt_res, self.max_iter)\n"
     ]
    },
    {
     "data": {
      "text/plain": [
       "[<matplotlib.lines.Line2D at 0x7fb88daa1700>]"
      ]
     },
     "execution_count": 15,
     "metadata": {},
     "output_type": "execute_result"
    },
    {
     "data": {
      "image/png": "[encoded data removed]",
      "text/plain": [
       "<Figure size 432x288 with 1 Axes>"
      ]
     },
     "metadata": {
      "needs_background": "light"
     },
     "output_type": "display_data"
    }
   ],
   "source": [
    "x_3 = []\n",
    "y_f1_3 = []\n",
    "y_score_3 = []\n",
    "for i in range(2, 50, 2):\n",
    "    mlp = MLPClassifier(solver = \"lbfgs\",  max_iter = 500, hidden_layer_sizes = [i, i, i]).fit(X_data, y_data)\n",
    "    predict = mlp.predict(X_test)\n",
    "    x_3.append(i)\n",
    "    y_f1_3.append(f1_score(y_test, predict))\n",
    "    y_score_3.append(mlp.score(X_test, y_test))\n",
    "\n",
    "plt.plot(x_3, y_f1_3, color = \"red\")\n",
    "plt.plot(x_3, y_score_3)"
   ]
  },
  {
   "cell_type": "code",
   "execution_count": 16,
   "metadata": {
    "scrolled": true
   },
   "outputs": [
    {
     "data": {
      "text/plain": [
       "[<matplotlib.lines.Line2D at 0x7fb88da6abb0>]"
      ]
     },
     "execution_count": 16,
     "metadata": {},
     "output_type": "execute_result"
    },
    {
     "data": {
      "image/png": "[encoded data removed]",
      "text/plain": [
       "<Figure size 432x288 with 1 Axes>"
      ]
     },
     "metadata": {
      "needs_background": "light"
     },
     "output_type": "display_data"
    }
   ],
   "source": [
    "x_4 = []\n",
    "y_f1_4 = []\n",
    "y_score_4 = []\n",
    "for i in range(2, 40, 2):\n",
    "    mlp = MLPClassifier(solver = \"lbfgs\", max_iter = 500, hidden_layer_sizes = [i, i, i, i]).fit(X_data, y_data)\n",
    "    predict = mlp.predict(X_test)\n",
    "    x_4.append(i)\n",
    "    y_f1_4.append(f1_score(y_test, predict))\n",
    "    y_score_4.append(mlp.score(X_test, y_test))\n",
    "\n",
    "plt.plot(x_4, y_f1_4, color = \"red\")\n",
    "plt.plot(x_4, y_score_4)"
   ]
  },
  {
   "cell_type": "code",
   "execution_count": 17,
   "metadata": {},
   "outputs": [],
   "source": [
    "test = pd.read_csv('./answer_bgr.csv', header = None)\n",
    "test = test.values\n",
    "\n",
    "B = test[:,0]\n",
    "G = test[:,1]\n",
    "R = test[:,2]"
   ]
  },
  {
   "cell_type": "code",
   "execution_count": 18,
   "metadata": {},
   "outputs": [
    {
     "data": {
      "text/plain": [
       "<matplotlib.collections.PathCollection at 0x7fb88d9e8b20>"
      ]
     },
     "execution_count": 18,
     "metadata": {},
     "output_type": "execute_result"
    },
    {
     "data": {
      "image/png": "[encoded data removed]",
      "text/plain": [
       "<Figure size 432x288 with 1 Axes>"
      ]
     },
     "metadata": {
      "needs_background": "light"
     },
     "output_type": "display_data"
    }
   ],
   "source": [
    "B_0 = B[:5]\n",
    "B_1 = B[5:]\n",
    "R_0 = R[:5]\n",
    "R_1 = R[5:]\n",
    "plt.scatter(R_0,B_0)\n",
    "plt.scatter(R_1,B_1, c=\"red\")\n",
    "plt.scatter(R_0[1],B_0[1], c=\"yellow\")"
   ]
  },
  {
   "cell_type": "code",
   "execution_count": 19,
   "metadata": {
    "scrolled": true
   },
   "outputs": [
    {
     "data": {
      "text/plain": [
       "<matplotlib.collections.PathCollection at 0x7fb88da4fb80>"
      ]
     },
     "execution_count": 19,
     "metadata": {},
     "output_type": "execute_result"
    },
    {
     "data": {
      "image/png": "[encoded data removed]",
      "text/plain": [
       "<Figure size 432x288 with 1 Axes>"
      ]
     },
     "metadata": {
      "needs_background": "light"
     },
     "output_type": "display_data"
    }
   ],
   "source": [
    "G_0 = G[:5]\n",
    "G_1 = G[5:]\n",
    "R_0 = R[:5]\n",
    "R_1 = R[5:]\n",
    "plt.scatter(R_0,G_0)\n",
    "plt.scatter(R_1,G_1, c=\"red\")\n",
    "plt.scatter(R_0[1],G_0[1], c=\"yellow\")"
   ]
  },
  {
   "cell_type": "code",
   "execution_count": 20,
   "metadata": {},
   "outputs": [
    {
     "data": {
      "text/plain": [
       "<matplotlib.collections.PathCollection at 0x7fb88d93f340>"
      ]
     },
     "execution_count": 20,
     "metadata": {},
     "output_type": "execute_result"
    },
    {
     "data": {
      "image/png": "[encoded data removed]",
      "text/plain": [
       "<Figure size 432x288 with 1 Axes>"
      ]
     },
     "metadata": {
      "needs_background": "light"
     },
     "output_type": "display_data"
    }
   ],
   "source": [
    "G_0 = G[:5]\n",
    "G_1 = G[5:]\n",
    "B_0 = B[:5]\n",
    "B_1 = B[5:]\n",
    "plt.scatter(B_0,G_0)\n",
    "plt.scatter(B_1,G_1, c=\"red\")\n",
    "plt.scatter(B_0[1],G_0[1], c=\"yellow\")"
   ]
  },
  {
   "cell_type": "code",
   "execution_count": 21,
   "metadata": {},
   "outputs": [],
   "source": [
    "train = pd.read_csv('./bgr.csv', header = None)\n",
    "train = train.values\n",
    "\n",
    "B = train[:,0]\n",
    "G = train[:,1]\n",
    "R = train[:,2]"
   ]
  },
  {
   "cell_type": "code",
   "execution_count": 22,
   "metadata": {},
   "outputs": [
    {
     "data": {
      "text/plain": [
       "<matplotlib.collections.PathCollection at 0x7fb88d8f7a60>"
      ]
     },
     "execution_count": 22,
     "metadata": {},
     "output_type": "execute_result"
    },
    {
     "data": {
      "image/png": "[encoded data removed]",
      "text/plain": [
       "<Figure size 432x288 with 1 Axes>"
      ]
     },
     "metadata": {
      "needs_background": "light"
     },
     "output_type": "display_data"
    }
   ],
   "source": [
    "B_0 = B[:500]\n",
    "B_1 = B[500:]\n",
    "R_0 = R[:500]\n",
    "R_1 = R[500:]\n",
    "plt.scatter(R_0,B_0)\n",
    "plt.scatter(R_1,B_1, c=\"red\")"
   ]
  },
  {
   "cell_type": "code",
   "execution_count": 23,
   "metadata": {},
   "outputs": [
    {
     "data": {
      "text/plain": [
       "<matplotlib.collections.PathCollection at 0x7fb88d815ca0>"
      ]
     },
     "execution_count": 23,
     "metadata": {},
     "output_type": "execute_result"
    },
    {
     "data": {
      "image/png": "[encoded data removed]",
      "text/plain": [
       "<Figure size 432x288 with 1 Axes>"
      ]
     },
     "metadata": {
      "needs_background": "light"
     },
     "output_type": "display_data"
    }
   ],
   "source": [
    "G_0 = G[:500]\n",
    "G_1 = G[500:]\n",
    "R_0 = R[:500]\n",
    "R_1 = R[500:]\n",
    "plt.scatter(R_0,G_0)\n",
    "plt.scatter(R_1,G_1, c=\"red\")"
   ]
  },
  {
   "cell_type": "code",
   "execution_count": 24,
   "metadata": {},
   "outputs": [
    {
     "data": {
      "text/plain": [
       "<matplotlib.collections.PathCollection at 0x7fb88d804f10>"
      ]
     },
     "execution_count": 24,
     "metadata": {},
     "output_type": "execute_result"
    },
    {
     "data": {
      "image/png": "[encoded data removed]",
      "text/plain": [
       "<Figure size 432x288 with 1 Axes>"
      ]
     },
     "metadata": {
      "needs_background": "light"
     },
     "output_type": "display_data"
    }
   ],
   "source": [
    "G_0 = G[:500]\n",
    "G_1 = G[500:]\n",
    "B_0 = B[:500]\n",
    "B_1 = B[500:]\n",
    "plt.scatter(B_0,G_0)\n",
    "plt.scatter(B_1,G_1, c=\"red\")"
   ]
  },
  {
   "cell_type": "code",
   "execution_count": 25,
   "metadata": {},
   "outputs": [
    {
     "name": "stdout",
     "output_type": "stream",
     "text": [
      "Accuracy on training set: 0.848\n",
      "Accuracy on test set: 0.660\n",
      "Max on training set: 0.933\n"
     ]
    }
   ],
   "source": [
    "sum_train = 0\n",
    "sum_test = 0\n",
    "max_test = 0\n",
    "\n",
    "for i in range(10):\n",
    "    mlp = MLPClassifier(solver = \"lbfgs\", activation = \"tanh\", max_iter = 500, hidden_layer_sizes = [10]).fit(X_data, y_data)\n",
    "    predict = mlp.predict(X_test)\n",
    "    predict_sea = predict[0:5]\n",
    "    predict_land = predict[5:]\n",
    "    if max_test < mlp.score(X_test, y_test):\n",
    "        max_test = mlp.score(X_test, y_test)\n",
    "    sum_train += mlp.score(X_data, y_data)\n",
    "    sum_test += mlp.score(X_test, y_test)\n",
    "    \n",
    "predict = mlp.predict(X_test)\n",
    "predict_sea = predict[0:5]\n",
    "predict_land = predict[5:]\n",
    "# print(\"予測結果 \\n sea:{} \\n land:{}\".format(predict_sea, predict_land))\n",
    "print(\"Accuracy on training set: {:.3f}\".format(sum_train/10))\n",
    "print(\"Accuracy on test set: {:.3f}\".format(sum_test/10))\n",
    "print(\"Max on training set: {:.3f}\".format(max_test))\n",
    "# print(\"F1 score: {:.4f}\".format(f1_score(y_test, predict)))"
   ]
  },
  {
   "cell_type": "code",
   "execution_count": 26,
   "metadata": {},
   "outputs": [
    {
     "name": "stdout",
     "output_type": "stream",
     "text": [
      "Accuracy on training set: 0.999\n",
      "Accuracy on test set: 0.727\n",
      "Max on training set: 0.933\n"
     ]
    }
   ],
   "source": [
    "sum_train = 0\n",
    "sum_test = 0\n",
    "max_test = 0\n",
    "\n",
    "for i in range(10):\n",
    "    mlp = MLPClassifier(solver = \"lbfgs\", activation = \"tanh\", max_iter = 500, hidden_layer_sizes = [50]).fit(X_data, y_data)\n",
    "    predict = mlp.predict(X_test)\n",
    "    predict_sea = predict[0:5]\n",
    "    predict_land = predict[5:]\n",
    "    if max_test < mlp.score(X_test, y_test):\n",
    "        max_test = mlp.score(X_test, y_test)\n",
    "    sum_train += mlp.score(X_data, y_data)\n",
    "    sum_test += mlp.score(X_test, y_test)\n",
    "    \n",
    "predict = mlp.predict(X_test)\n",
    "predict_sea = predict[0:5]\n",
    "predict_land = predict[5:]\n",
    "# print(\"予測結果 \\n sea:{} \\n land:{}\".format(predict_sea, predict_land))\n",
    "print(\"Accuracy on training set: {:.3f}\".format(sum_train/10))\n",
    "print(\"Accuracy on test set: {:.3f}\".format(sum_test/10))\n",
    "print(\"Max on training set: {:.3f}\".format(max_test))\n",
    "# print(\"F1 score: {:.4f}\".format(f1_score(y_test, predict)))"
   ]
  },
  {
   "cell_type": "code",
   "execution_count": 27,
   "metadata": {},
   "outputs": [
    {
     "name": "stdout",
     "output_type": "stream",
     "text": [
      "Accuracy on training set: 1.000\n",
      "Accuracy on test set: 0.700\n",
      "Max on training set: 0.800\n"
     ]
    }
   ],
   "source": [
    "sum_train = 0\n",
    "sum_test = 0\n",
    "max_test = 0\n",
    "\n",
    "for i in range(10):\n",
    "    mlp = MLPClassifier(solver = \"lbfgs\", activation = \"tanh\", max_iter = 500, hidden_layer_sizes = [100]).fit(X_data, y_data)\n",
    "    predict = mlp.predict(X_test)\n",
    "    predict_sea = predict[0:5]\n",
    "    predict_land = predict[5:]\n",
    "    if max_test < mlp.score(X_test, y_test):\n",
    "        max_test = mlp.score(X_test, y_test)\n",
    "    sum_train += mlp.score(X_data, y_data)\n",
    "    sum_test += mlp.score(X_test, y_test)\n",
    "    \n",
    "predict = mlp.predict(X_test)\n",
    "predict_sea = predict[0:5]\n",
    "predict_land = predict[5:]\n",
    "# print(\"予測結果 \\n sea:{} \\n land:{}\".format(predict_sea, predict_land))\n",
    "print(\"Accuracy on training set: {:.3f}\".format(sum_train/10))\n",
    "print(\"Accuracy on test set: {:.3f}\".format(sum_test/10))\n",
    "print(\"Max on training set: {:.3f}\".format(max_test))\n",
    "# print(\"F1 score: {:.4f}\".format(f1_score(y_test, predict)))"
   ]
  }
 ],
 "metadata": {
  "kernelspec": {
   "display_name": "Python 3",
   "language": "python",
   "name": "python3"
  },
  "language_info": {
   "codemirror_mode": {
    "name": "ipython",
    "version": 3
   },
   "file_extension": ".py",
   "mimetype": "text/x-python",
   "name": "python",
   "nbconvert_exporter": "python",
   "pygments_lexer": "ipython3",
   "version": "3.8.10"
  }
 },
 "nbformat": 4,
 "nbformat_minor": 4
}
