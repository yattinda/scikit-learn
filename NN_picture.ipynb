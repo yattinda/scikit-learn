{
 "cells": [
  {
   "cell_type": "code",
   "execution_count": 1,
   "metadata": {},
   "outputs": [],
   "source": [
    "from IPython.display import set_matplotlib_formats, display\n",
    "import pandas as pd\n",
    "import numpy as np\n",
    "import matplotlib.pyplot as plt\n",
    "import mglearn\n",
    "import graphviz\n",
    "from mglearn.tools import discrete_scatter\n",
    "from sklearn.neural_network import MLPClassifier\n",
    "import cv2\n",
    "import csv"
   ]
  },
  {
   "cell_type": "code",
   "execution_count": 15,
   "metadata": {
    "scrolled": true
   },
   "outputs": [],
   "source": [
    "bgr_array = cv2.imread('IMG_LEARN.jpg')\n",
    "sea = pd.read_csv('./sea.csv', header = None)\n",
    "land = pd.read_csv('./land.csv', header = None)\n",
    "sea = sea.values\n",
    "land = land.values\n",
    "bgr = []\n",
    "for i in range(100):\n",
    "#     print(np.append(bgr_array[sea[i][1], sea[i][0], :], 1))\n",
    "    bgr.append(np.append(bgr_array[sea[i][1], sea[i][0], :], 1))\n",
    "\n",
    "for i in range(100):\n",
    "#     print(np.append(bgr_array[land[i][1], land[i][0], :], 1))\n",
    "    bgr.append(np.append(bgr_array[land[i][1], land[i][0], :], 2))\n",
    "\n",
    "with open('bgr.csv', 'w') as file:\n",
    "    writer = csv.writer(file, lineterminator='\\n')\n",
    "    writer.writerows(bgr)"
   ]
  },
  {
   "cell_type": "code",
   "execution_count": 6,
   "metadata": {},
   "outputs": [],
   "source": [
    "data = pd.read_csv('./bgr.csv', header = None)\n",
    "data = data.values\n",
    "X = data[:,:-1]\n",
    "y = data[:,-1]\n",
    "mlp = MLPClassifier(solver = \"lbfgs\", random_state = 0, hidden_layer_sizes = [10]).fit(X, y)"
   ]
  },
  {
   "cell_type": "code",
   "execution_count": null,
   "metadata": {},
   "outputs": [],
   "source": []
  }
 ],
 "metadata": {
  "kernelspec": {
   "display_name": "Python 3",
   "language": "python",
   "name": "python3"
  },
  "language_info": {
   "codemirror_mode": {
    "name": "ipython",
    "version": 3
   },
   "file_extension": ".py",
   "mimetype": "text/x-python",
   "name": "python",
   "nbconvert_exporter": "python",
   "pygments_lexer": "ipython3",
   "version": "3.8.10"
  }
 },
 "nbformat": 4,
 "nbformat_minor": 4
}
