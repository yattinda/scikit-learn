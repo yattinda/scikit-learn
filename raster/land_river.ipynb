{
 "cells": [
  {
   "cell_type": "code",
   "execution_count": null,
   "metadata": {},
   "outputs": [],
   "source": [
    "import pandas as pd\n",
    "import numpy as np\n",
    "import cv2\n",
    "import csv\n",
    "import matplotlib.pyplot as plt"
   ]
  },
  {
   "cell_type": "code",
   "execution_count": null,
   "metadata": {},
   "outputs": [],
   "source": [
    "test_image= cv2.imread('./data/test.tiff')\n",
    "print(test_image.shape)\n",
    "height, width, channels = test_image[:3]"
   ]
  },
  {
   "cell_type": "code",
   "execution_count": null,
   "metadata": {},
   "outputs": [],
   "source": [
    "land_image= cv2.imread('./data/land.tiff')\n",
    "river_image= cv2.imread('./data/river.tiff')\n",
    "print(land_image.shape)\n",
    "print(river_image.shape)"
   ]
  },
  {
   "cell_type": "code",
   "execution_count": null,
   "metadata": {},
   "outputs": [],
   "source": [
    "coordinate = pd.read_csv('./data/coordinate.csv', header = None)\n",
    "coordinate = coordinate.values\n",
    "\n",
    "bgr = []\n",
    "for i in range(0, 750, 10):\n",
    "    bgr.append(np.append(land_image[coordinate[i][1], coordinate[i][0], :], 1))\n",
    "    \n",
    "bgr = []\n",
    "for i in range(0, 750, 10):\n",
    "    bgr.append(np.append(river_image[coordinate[i][1], coordinate[i][0], :], 0))\n",
    "\n",
    "with open('./data/bgr.csv', 'w') as file:\n",
    "    writer = csv.writer(file, lineterminator='\\n')\n",
    "    writer.writerows(bgr)"
   ]
  },
  {
   "cell_type": "code",
   "execution_count": null,
   "metadata": {},
   "outputs": [],
   "source": [
    "test_bgr = np.empty((0, 3))\n",
    "for i in range(1, height):\n",
    "    for j in range(1, width):\n",
    "        tmp = np.array(resize_image[i, j, :])\n",
    "        test_bgr = np.append(product1_bgr, np.array([tmp]), axis = 0)\n",
    "\n",
    "data = data.values\n",
    "\n",
    "X_data = data[:,:-1]\n",
    "y_data = data[:,-1]\n",
    "X_test = test_bgr\n",
    "\n",
    "mlp = MLPClassifier(solver = \"lbfgs\", max_iter = 500, hidden_layer_sizes = [10]).fit(X_data, y_data)\n",
    "predict = mlp.predict(X_test)\n",
    "\n",
    "predict_data = []\n",
    "for k in range(predict.length):\n",
    "    predict_data.append(np.append(river_image[coordinate[i][1], coordinate[i][0], :], 0))\n",
    "\n",
    "\n",
    "# with open('./data/bgr.csv', 'w') as file:\n",
    "#     writer = csv.writer(file, lineterminator='\\n')\n",
    "#     writer.writerows(np.append(test_image[coordinate[i][1], coordinate[i][0], :], 1))"
   ]
  }
 ],
 "metadata": {
  "kernelspec": {
   "display_name": "Python 3",
   "language": "python",
   "name": "python3"
  },
  "language_info": {
   "codemirror_mode": {
    "name": "ipython",
    "version": 3
   },
   "file_extension": ".py",
   "mimetype": "text/x-python",
   "name": "python",
   "nbconvert_exporter": "python",
   "pygments_lexer": "ipython3",
   "version": "3.8.10"
  }
 },
 "nbformat": 4,
 "nbformat_minor": 4
}
