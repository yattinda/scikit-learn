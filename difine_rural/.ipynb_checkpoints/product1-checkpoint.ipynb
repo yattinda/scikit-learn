{
 "cells": [
  {
   "cell_type": "code",
   "execution_count": 1,
   "metadata": {},
   "outputs": [],
   "source": [
    "import pandas as pd\n",
    "import numpy as np\n",
    "import matplotlib.pyplot as plt\n",
    "import mglearn\n",
    "from sklearn.neural_network import MLPClassifier\n",
    "from sklearn.metrics import f1_score\n",
    "import cv2\n",
    "import csv"
   ]
  },
  {
   "cell_type": "code",
   "execution_count": 2,
   "metadata": {},
   "outputs": [
    {
     "name": "stdout",
     "output_type": "stream",
     "text": [
      "緑地の割合 76.045%\n"
     ]
    }
   ],
   "source": [
    "product1_image= cv2.imread('./data/product1.jpg')\n",
    "data = pd.read_csv('./data/bgr.csv', header = None)\n",
    "resize_image = cv2.resize(product1_image, (1920, 1080))\n",
    "height, width, channels = resize_image.shape[:3]\n",
    "\n",
    "product1_bgr = np.empty((0, 3))\n",
    "for i in range(1, height, 5):\n",
    "    for j in range(1, width, 5):\n",
    "        tmp = np.array(resize_image[i, j, :])\n",
    "        product1_bgr = np.append(product1_bgr, np.array([tmp]), axis = 0)\n",
    "    \n",
    "data = data.values\n",
    "\n",
    "X_data = data[:,:-1]\n",
    "y_data = data[:,-1]\n",
    "X_test = product1_bgr\n",
    "cell = int((width * height) / 25)\n",
    "\n",
    "mlp = MLPClassifier(solver = \"lbfgs\", max_iter = 500, hidden_layer_sizes = [10]).fit(X_data, y_data)\n",
    "predict = mlp.predict(X_test)\n",
    "predict_sum = sum(predict)\n",
    "\n",
    "forest_per = 1 - (predict_sum / cell)\n",
    "\n",
    "print(\"緑地の割合 {:.3f}%\".format(forest_per * 100))"
   ]
  },
  {
   "cell_type": "code",
   "execution_count": 3,
   "metadata": {},
   "outputs": [
    {
     "name": "stdout",
     "output_type": "stream",
     "text": [
      "緑地の割合 76.057%\n"
     ]
    }
   ],
   "source": [
    "product1_bgr = np.empty((0, 3))\n",
    "for i in range(1, height, 5):\n",
    "    for j in range(1, width, 5):\n",
    "        tmp = np.array(resize_image[i, j, :])\n",
    "        product1_bgr = np.append(product1_bgr, np.array([tmp]), axis = 0)\n",
    "\n",
    "X_data = data[:,:-1]\n",
    "y_data = data[:,-1]\n",
    "X_test = product1_bgr\n",
    "cell = int((width * height) / 25)\n",
    "\n",
    "mlp = MLPClassifier(solver = \"lbfgs\", max_iter = 500, hidden_layer_sizes = [10]).fit(X_data, y_data)\n",
    "predict = mlp.predict(X_test)\n",
    "predict_sum = sum(predict)\n",
    "\n",
    "forest_per = 1 - (predict_sum / cell)\n",
    "\n",
    "print(\"緑地の割合 {:.3f}%\".format(forest_per * 100))"
   ]
  },
  {
   "cell_type": "code",
   "execution_count": null,
   "metadata": {},
   "outputs": [],
   "source": []
  }
 ],
 "metadata": {
  "kernelspec": {
   "display_name": "Python 3",
   "language": "python",
   "name": "python3"
  },
  "language_info": {
   "codemirror_mode": {
    "name": "ipython",
    "version": 3
   },
   "file_extension": ".py",
   "mimetype": "text/x-python",
   "name": "python",
   "nbconvert_exporter": "python",
   "pygments_lexer": "ipython3",
   "version": "3.8.10"
  }
 },
 "nbformat": 4,
 "nbformat_minor": 4
}
