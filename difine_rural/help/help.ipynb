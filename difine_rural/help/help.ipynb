{
 "cells": [
  {
   "cell_type": "code",
   "execution_count": 1,
   "metadata": {},
   "outputs": [],
   "source": [
    "import pandas as pd\n",
    "import numpy as np\n",
    "import cv2\n",
    "import csv\n",
    "import matplotlib.pyplot as plt\n",
    "import mglearn\n",
    "from sklearn.neural_network import MLPClassifier"
   ]
  },
  {
   "cell_type": "code",
   "execution_count": 2,
   "metadata": {},
   "outputs": [],
   "source": [
    "red_image= cv2.imread('./red.png')\n",
    "green_image= cv2.imread('./green.png')\n",
    "\n",
    "coordinate = pd.read_csv('./coordinate.csv', header = None)\n",
    "coordinate = coordinate.values\n",
    "\n",
    "bgr = []\n",
    "for i in range(0, 120, 1):\n",
    "    tmp = red_image[coordinate[i][1], coordinate[i][0], :]\n",
    "    tmp = np.delete(tmp, 0)\n",
    "    bgr.append(np.append(tmp, 1))\n",
    "    \n",
    "    \n",
    "    \n",
    "for i in range(0, 120, 1):\n",
    "    tmp = green_image[coordinate[i][1], coordinate[i][0], :]\n",
    "    tmp = np.delete(tmp, 0)\n",
    "    bgr.append(np.append(tmp, 0))\n",
    "\n",
    "\n",
    "with open('./help_bgr.csv', 'w') as file:\n",
    "    writer = csv.writer(file, lineterminator='\\n')\n",
    "    writer.writerows(bgr)"
   ]
  },
  {
   "cell_type": "code",
   "execution_count": 3,
   "metadata": {},
   "outputs": [],
   "source": [
    "bgr_array = cv2.imread('./test.jpg')\n",
    "answer = pd.read_csv('./test.csv', header = None)\n",
    "answer = answer.values\n",
    "answer_bgr = []\n",
    "for i in range(11):\n",
    "    tmp = bgr_array[answer[i][1], answer[i][0], :]\n",
    "    tmp = np.delete(tmp, 0)       \n",
    "    answer_bgr.append(np.append(tmp, 0))\n",
    "for i in range(11,22):\n",
    "    tmp = bgr_array[answer[i][1], answer[i][0], :]\n",
    "    tmp = np.delete(tmp, 0) \n",
    "    answer_bgr.append(np.append(tmp, 1))\n",
    "\n",
    "with open('./answer_bgr.csv', 'w') as file:\n",
    "    writer = csv.writer(file, lineterminator='\\n')\n",
    "    writer.writerows(answer_bgr)"
   ]
  },
  {
   "cell_type": "code",
   "execution_count": 4,
   "metadata": {},
   "outputs": [
    {
     "name": "stdout",
     "output_type": "stream",
     "text": [
      "予測結果 \n",
      " 紅葉ではない:[0 0 0 0 0 0 1 1 0 0 0] \n",
      " 紅葉:[0 0 1 0 1 1 1 0 1 1 1]\n",
      "Accuracy on training set: 1.000\n",
      "Accuracy on test set: 0.716\n",
      "Max on training set: 0.818\n"
     ]
    }
   ],
   "source": [
    "data = pd.read_csv('./help_bgr.csv', header = None)\n",
    "test = pd.read_csv('./answer_bgr.csv', header = None)\n",
    "data = data.values\n",
    "test = test.values\n",
    "X_data = data[:,:-1]\n",
    "y_data = data[:,-1]\n",
    "X_test = test[:,:-1]\n",
    "y_test = test[:,-1]\n",
    "\n",
    "sum_train = 0\n",
    "sum_test = 0\n",
    "max_test = 0\n",
    "\n",
    "for i in range(50):\n",
    "    mlp = MLPClassifier(solver = \"lbfgs\", max_iter = 500, hidden_layer_sizes = [5]).fit(X_data, y_data)\n",
    "    predict = mlp.predict(X_test)\n",
    "    predict_sea = predict[0:11]\n",
    "    predict_land = predict[11:]\n",
    "    if max_test < mlp.score(X_test, y_test):\n",
    "        max_test = mlp.score(X_test, y_test)\n",
    "    sum_train += mlp.score(X_data, y_data)\n",
    "    sum_test += mlp.score(X_test, y_test)\n",
    "\n",
    "predict = mlp.predict(X_test)\n",
    "predict_sea = predict[0:11]\n",
    "predict_land = predict[11:]\n",
    "\n",
    "print(\"予測結果 \\n 紅葉ではない:{} \\n 紅葉:{}\".format(predict_sea, predict_land))\n",
    "print(\"Accuracy on training set: {:.3f}\".format(sum_train/50))\n",
    "print(\"Accuracy on test set: {:.3f}\".format(sum_test/50))\n",
    "print(\"Max on training set: {:.3f}\".format(max_test))\n",
    "# print(\"F1 score: {:.4f}\".format(f1_score(y_test, predict)))"
   ]
  },
  {
   "cell_type": "code",
   "execution_count": 5,
   "metadata": {},
   "outputs": [
    {
     "name": "stdout",
     "output_type": "stream",
     "text": [
      "紅葉の割合 27.403%\n"
     ]
    }
   ],
   "source": [
    "product1_image= cv2.imread('./test.jpg')\n",
    "data = pd.read_csv('./help_bgr.csv', header = None)\n",
    "resize_image = cv2.resize(product1_image, (1920, 1080))\n",
    "height, width, channels = resize_image.shape[:3]\n",
    "\n",
    "product1_bgr = np.empty((0, 2))\n",
    "for i in range(1, height, 5):\n",
    "    for j in range(1, width, 5):\n",
    "        tmp = np.array(resize_image[i, j, :])\n",
    "        tmp = np.delete(tmp, 0)\n",
    "        product1_bgr = np.append(product1_bgr, np.array([tmp]), axis = 0)\n",
    "    \n",
    "data = data.values\n",
    "\n",
    "X_data = data[:,:-1]\n",
    "y_data = data[:,-1]\n",
    "X_test = product1_bgr\n",
    "cell = int((width * height) / 25)\n",
    "\n",
    "mlp = MLPClassifier(solver = \"lbfgs\", max_iter = 500, hidden_layer_sizes = [5]).fit(X_data, y_data)\n",
    "predict = mlp.predict(X_test)\n",
    "predict_sum = sum(predict)\n",
    "\n",
    "forest_per = predict_sum / cell\n",
    "\n",
    "print(\"紅葉の割合 {:.3f}%\".format(forest_per * 100))"
   ]
  },
  {
   "cell_type": "code",
   "execution_count": 6,
   "metadata": {},
   "outputs": [],
   "source": [
    "train = pd.read_csv('./help_bgr.csv', header = None)\n",
    "train = train.values\n",
    "\n",
    "G = train[:,0]\n",
    "R = train[:,1]"
   ]
  },
  {
   "cell_type": "code",
   "execution_count": 7,
   "metadata": {},
   "outputs": [
    {
     "data": {
      "text/plain": [
       "Text(0, 0.5, 'R')"
      ]
     },
     "execution_count": 7,
     "metadata": {},
     "output_type": "execute_result"
    },
    {
     "data": {
      "image/png": "[encoded data removed]",
      "text/plain": [
       "<Figure size 432x288 with 1 Axes>"
      ]
     },
     "metadata": {
      "needs_background": "light"
     },
     "output_type": "display_data"
    }
   ],
   "source": [
    "G_0 = G[:120]\n",
    "G_1 = G[120:]\n",
    "R_0 = R[:120]\n",
    "R_1 = R[120:]\n",
    "plt.scatter(R_0,G_0)\n",
    "plt.scatter(R_1,G_1, c=\"red\")\n",
    "plt.xlabel('G')\n",
    "plt.ylabel('R')"
   ]
  },
  {
   "cell_type": "code",
   "execution_count": 8,
   "metadata": {},
   "outputs": [],
   "source": [
    "red_image= cv2.imread('./red.png')\n",
    "green_image= cv2.imread('./green.png')\n",
    "\n",
    "coordinate = pd.read_csv('./coordinate.csv', header = None)\n",
    "coordinate = coordinate.values\n",
    "\n",
    "bgr = []\n",
    "for i in range(0, 120, 1):\n",
    "    tmp = red_image[coordinate[i][1], coordinate[i][0], :]\n",
    "    bgr.append(np.append(tmp, 1))\n",
    "    \n",
    "    \n",
    "    \n",
    "for i in range(0, 120, 1):\n",
    "    tmp = green_image[coordinate[i][1], coordinate[i][0], :]\n",
    "    bgr.append(np.append(tmp, 0))\n",
    "\n",
    "\n",
    "with open('./original_help_bgr.csv', 'w') as file:\n",
    "    writer = csv.writer(file, lineterminator='\\n')\n",
    "    writer.writerows(bgr)"
   ]
  },
  {
   "cell_type": "code",
   "execution_count": 9,
   "metadata": {},
   "outputs": [],
   "source": [
    "bgr_array = cv2.imread('./test.jpg')\n",
    "answer = pd.read_csv('./test.csv', header = None)\n",
    "answer = answer.values\n",
    "answer_bgr = []\n",
    "for i in range(11):\n",
    "    tmp = bgr_array[answer[i][1], answer[i][0], :]       \n",
    "    answer_bgr.append(np.append(tmp, 0))\n",
    "for i in range(11,22):\n",
    "    tmp = bgr_array[answer[i][1], answer[i][0], :]\n",
    "    answer_bgr.append(np.append(tmp, 1))\n",
    "\n",
    "with open('./original_help_answer_bgr.csv', 'w') as file:\n",
    "    writer = csv.writer(file, lineterminator='\\n')\n",
    "    writer.writerows(answer_bgr)"
   ]
  },
  {
   "cell_type": "code",
   "execution_count": 10,
   "metadata": {
    "scrolled": true
   },
   "outputs": [
    {
     "name": "stdout",
     "output_type": "stream",
     "text": [
      "予測結果 \n",
      " 紅葉ではない:[0 0 0 0 0 0 0 0 0 0 0] \n",
      " 紅葉:[0 0 1 0 1 0 0 0 1 1 1]\n",
      "Accuracy on training set: 1.000\n",
      "Accuracy on test set: 0.686\n",
      "Max on training set: 0.818\n"
     ]
    }
   ],
   "source": [
    "data = pd.read_csv('./original_help_bgr.csv', header = None)\n",
    "test = pd.read_csv('./original_help_answer_bgr.csv', header = None)\n",
    "data = data.values\n",
    "test = test.values\n",
    "X_data = data[:,:-1]\n",
    "y_data = data[:,-1]\n",
    "X_test = test[:,:-1]\n",
    "y_test = test[:,-1]\n",
    "\n",
    "sum_train = 0\n",
    "sum_test = 0\n",
    "max_test = 0\n",
    "\n",
    "for i in range(50):\n",
    "    mlp = MLPClassifier(solver = \"lbfgs\", max_iter = 500, hidden_layer_sizes = [10]).fit(X_data, y_data)\n",
    "    predict = mlp.predict(X_test)\n",
    "    predict_sea = predict[0:11]\n",
    "    predict_land = predict[11:]\n",
    "    if max_test < mlp.score(X_test, y_test):\n",
    "        max_test = mlp.score(X_test, y_test)\n",
    "    sum_train += mlp.score(X_data, y_data)\n",
    "    sum_test += mlp.score(X_test, y_test)\n",
    "\n",
    "predict = mlp.predict(X_test)\n",
    "predict_sea = predict[0:11]\n",
    "predict_land = predict[11:]\n",
    "\n",
    "print(\"予測結果 \\n 紅葉ではない:{} \\n 紅葉:{}\".format(predict_sea, predict_land))\n",
    "print(\"Accuracy on training set: {:.3f}\".format(sum_train/50))\n",
    "print(\"Accuracy on test set: {:.3f}\".format(sum_test/50))\n",
    "print(\"Max on training set: {:.3f}\".format(max_test))\n",
    "# print(\"F1 score: {:.4f}\".format(f1_score(y_test, predict)))"
   ]
  },
  {
   "cell_type": "code",
   "execution_count": 11,
   "metadata": {},
   "outputs": [
    {
     "name": "stdout",
     "output_type": "stream",
     "text": [
      "紅葉の割合 22.905%\n"
     ]
    }
   ],
   "source": [
    "product1_image= cv2.imread('./test.jpg')\n",
    "data = pd.read_csv('./original_help_bgr.csv', header = None)\n",
    "resize_image = cv2.resize(product1_image, (1920, 1080))\n",
    "height, width, channels = resize_image.shape[:3]\n",
    "\n",
    "product1_bgr = np.empty((0, 3))\n",
    "for i in range(1, height, 5):\n",
    "    for j in range(1, width, 5):\n",
    "        tmp = np.array(resize_image[i, j, :])\n",
    "        product1_bgr = np.append(product1_bgr, np.array([tmp]), axis = 0)\n",
    "    \n",
    "data = data.values\n",
    "\n",
    "X_data = data[:,:-1]\n",
    "y_data = data[:,-1]\n",
    "X_test = product1_bgr\n",
    "cell = int((width * height) / 25)\n",
    "\n",
    "mlp = MLPClassifier(solver = \"lbfgs\", max_iter = 500, hidden_layer_sizes = [10]).fit(X_data, y_data)\n",
    "predict = mlp.predict(X_test)\n",
    "predict_sum = sum(predict)\n",
    "\n",
    "forest_per = predict_sum / cell\n",
    "\n",
    "print(\"紅葉の割合 {:.3f}%\".format(forest_per * 100))"
   ]
  },
  {
   "cell_type": "code",
   "execution_count": 12,
   "metadata": {},
   "outputs": [],
   "source": [
    "test = pd.read_csv('./original_help_bgr.csv', header = None)\n",
    "test = test.values\n",
    "\n",
    "B = test[:,0]\n",
    "G = test[:,1]\n",
    "R = test[:,2]"
   ]
  },
  {
   "cell_type": "code",
   "execution_count": 13,
   "metadata": {},
   "outputs": [
    {
     "data": {
      "text/plain": [
       "Text(0, 0.5, 'B')"
      ]
     },
     "execution_count": 13,
     "metadata": {},
     "output_type": "execute_result"
    },
    {
     "data": {
      "image/png": "[encoded data removed]",
      "text/plain": [
       "<Figure size 432x288 with 1 Axes>"
      ]
     },
     "metadata": {
      "needs_background": "light"
     },
     "output_type": "display_data"
    }
   ],
   "source": [
    "B_0 = B[:120]\n",
    "B_1 = B[120:]\n",
    "R_0 = R[:120]\n",
    "R_1 = R[120:]\n",
    "plt.scatter(R_0,B_0)\n",
    "plt.scatter(R_1,B_1, c=\"red\")\n",
    "plt.xlabel('R')\n",
    "plt.ylabel('B')"
   ]
  },
  {
   "cell_type": "code",
   "execution_count": 14,
   "metadata": {
    "scrolled": true
   },
   "outputs": [
    {
     "data": {
      "text/plain": [
       "Text(0, 0.5, 'G')"
      ]
     },
     "execution_count": 14,
     "metadata": {},
     "output_type": "execute_result"
    },
    {
     "data": {
      "image/png": "[encoded data removed]",
      "text/plain": [
       "<Figure size 432x288 with 1 Axes>"
      ]
     },
     "metadata": {
      "needs_background": "light"
     },
     "output_type": "display_data"
    }
   ],
   "source": [
    "G_0 = G[:120]\n",
    "G_1 = G[120:]\n",
    "R_0 = R[:120]\n",
    "R_1 = R[120:]\n",
    "plt.scatter(R_0,G_0)\n",
    "plt.scatter(R_1,G_1, c=\"red\")\n",
    "plt.xlabel('R')\n",
    "plt.ylabel('G')"
   ]
  },
  {
   "cell_type": "code",
   "execution_count": 15,
   "metadata": {},
   "outputs": [
    {
     "data": {
      "text/plain": [
       "Text(0, 0.5, 'G')"
      ]
     },
     "execution_count": 15,
     "metadata": {},
     "output_type": "execute_result"
    },
    {
     "data": {
      "image/png": "[encoded data removed]",
      "text/plain": [
       "<Figure size 432x288 with 1 Axes>"
      ]
     },
     "metadata": {
      "needs_background": "light"
     },
     "output_type": "display_data"
    }
   ],
   "source": [
    "G_0 = G[:120]\n",
    "G_1 = G[120:]\n",
    "B_0 = B[:120]\n",
    "B_1 = B[120:]\n",
    "plt.scatter(B_0,G_0)\n",
    "plt.scatter(B_1,G_1, c=\"red\")\n",
    "plt.xlabel('B')\n",
    "plt.ylabel('G')"
   ]
  }
 ],
 "metadata": {
  "kernelspec": {
   "display_name": "Python 3",
   "language": "python",
   "name": "python3"
  },
  "language_info": {
   "codemirror_mode": {
    "name": "ipython",
    "version": 3
   },
   "file_extension": ".py",
   "mimetype": "text/x-python",
   "name": "python",
   "nbconvert_exporter": "python",
   "pygments_lexer": "ipython3",
   "version": "3.8.10"
  }
 },
 "nbformat": 4,
 "nbformat_minor": 4
}
