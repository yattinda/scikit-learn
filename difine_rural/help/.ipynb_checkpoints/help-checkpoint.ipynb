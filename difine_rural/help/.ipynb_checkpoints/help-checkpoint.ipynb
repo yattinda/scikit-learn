{
 "cells": [
  {
   "cell_type": "code",
   "execution_count": 1,
   "metadata": {},
   "outputs": [],
   "source": [
    "import pandas as pd\n",
    "import numpy as np\n",
    "import cv2\n",
    "import csv\n",
    "import matplotlib.pyplot as plt\n",
    "import mglearn\n",
    "from sklearn.neural_network import MLPClassifier"
   ]
  },
  {
   "cell_type": "code",
   "execution_count": 11,
   "metadata": {},
   "outputs": [
    {
     "name": "stdout",
     "output_type": "stream",
     "text": [
      "[array([ 49,  78, 154,   1]), array([ 50,  87, 164,   1]), array([ 46,  78, 153,   1]), array([ 39,  65, 136,   1]), array([ 32,  58, 127,   1]), array([ 23,  61, 136,   1]), array([ 28,  71, 149,   1]), array([ 28,  68, 145,   1]), array([ 26,  60, 133,   1]), array([ 33,  63, 132,   1]), array([ 26,  57, 128,   1]), array([ 24,  60, 141,   1]), array([ 27,  65, 155,   1]), array([ 35,  65, 158,   1]), array([ 42,  72, 151,   1]), array([ 20,  50, 119,   1]), array([ 29,  57, 123,   1]), array([ 32,  56, 132,   1]), array([ 42,  64, 142,   1]), array([ 40,  60, 136,   1]), array([ 55,  75, 143,   1]), array([ 29,  49, 108,   1]), array([ 43,  64, 113,   1]), array([ 62,  83, 129,   1]), array([ 59,  80, 125,   1]), array([ 52,  71, 125,   1]), array([ 66,  84, 141,   1]), array([ 42,  60, 120,   1]), array([ 38,  57, 121,   1]), array([ 14,  34, 102,   1]), array([ 26,  48, 119,   1]), array([ 23,  46, 117,   1]), array([ 44,  66, 137,   1]), array([ 30,  50, 120,   1]), array([ 22,  39, 108,   1]), array([10, 26, 93,  1]), array([ 34,  49, 114,   1]), array([ 70,  81, 132,   1]), array([ 79,  92, 141,   1]), array([ 28,  47, 102,   1]), array([ 11,  37, 100,   1]), array([ 37,  61, 132,   1]), array([ 26,  44, 109,   1]), array([12, 30, 76,  1]), array([ 39,  62, 104,   1]), array([ 7, 37, 96,  1]), array([ 22,  59, 139,   1]), array([ 49,  90, 169,   1]), array([ 33,  72, 131,   1]), array([ 43,  69, 104,   1]), array([25, 47, 90,  1]), array([ 42,  62, 112,   1]), array([ 28,  48, 103,   1]), array([16, 40, 92,  1]), array([ 22,  51, 109,   1]), array([ 31,  62, 124,   1]), array([ 12,  44, 106,   1]), array([ 15,  49, 110,   1]), array([ 18,  51, 110,   1]), array([ 44,  77, 136,   1]), array([ 17,  49, 112,   1]), array([ 34,  66, 147,   1]), array([ 16,  48, 137,   1]), array([ 35,  67, 155,   1]), array([ 52,  86, 171,   1]), array([ 41,  78, 151,   1]), array([ 23,  58, 128,   1]), array([ 28,  63, 136,   1]), array([ 38,  72, 151,   1]), array([ 39,  76, 160,   1]), array([ 54,  96, 180,   1]), array([ 21,  66, 146,   1]), array([ 29,  72, 148,   1]), array([ 11,  44, 116,   1]), array([ 14,  42, 114,   1]), array([ 48,  78, 153,   1]), array([ 30,  64, 145,   1]), array([ 38,  72, 163,   1]), array([ 32,  66, 162,   1]), array([ 16,  49, 147,   1]), array([ 22,  57, 155,   1]), array([ 33,  70, 168,   1]), array([ 44,  82, 179,   1]), array([ 14,  52, 149,   1]), array([ 11,  48, 145,   1]), array([ 10,  42, 131,   1]), array([ 25,  56, 151,   1]), array([ 25,  56, 160,   1]), array([ 17,  49, 160,   1]), array([ 27,  60, 175,   1]), array([ 23,  52, 170,   1]), array([ 19,  48, 160,   1]), array([ 11,  42, 150,   1]), array([ 15,  47, 155,   1]), array([  9,  42, 154,   1]), array([ 17,  51, 165,   1]), array([ 27,  61, 173,   1]), array([ 11,  41, 136,   1]), array([ 18,  45, 129,   1]), array([ 49,  76, 151,   1]), array([ 63,  89, 156,   1]), array([ 31,  54, 125,   1]), array([ 38,  60, 132,   1]), array([ 37,  60, 132,   1]), array([ 26,  48, 121,   1]), array([ 39,  60, 134,   1]), array([ 33,  55, 127,   1]), array([ 28,  50, 121,   1]), array([ 25,  49, 120,   1]), array([ 34,  57, 122,   1]), array([21, 42, 98,  1]), array([ 41,  64, 101,   1]), array([37, 58, 88,  1]), array([ 53,  72, 102,   1]), array([32, 51, 77,  1]), array([42, 60, 93,  1]), array([ 40,  58, 100,   1]), array([ 40,  59, 112,   1]), array([ 22,  45, 105,   1]), array([ 13,  39, 102,   1]), array([112, 136, 112,   0]), array([ 91, 116,  91,   0]), array([105, 131, 104,   0]), array([130, 154, 128,   0]), array([134, 158, 132,   0]), array([131, 154, 130,   0]), array([115, 142, 119,   0]), array([130, 163, 141,   0]), array([120, 153, 133,   0]), array([108, 140, 121,   0]), array([117, 150, 122,   0]), array([112, 147, 117,   0]), array([103, 143, 115,   0]), array([128, 176, 150,   0]), array([118, 173, 149,   0]), array([110, 170, 149,   0]), array([ 80, 141, 121,   0]), array([ 89, 147, 127,   0]), array([ 89, 142, 120,   0]), array([ 99, 152, 124,   0]), array([103, 159, 127,   0]), array([ 76, 124,  92,   0]), array([ 87, 112,  84,   0]), array([65, 82, 56,  0]), array([81, 97, 72,  0]), array([71, 93, 68,  0]), array([65, 93, 68,  0]), array([ 76, 106,  82,   0]), array([ 95, 122, 100,   0]), array([ 79, 101,  79,   0]), array([62, 81, 61,  0]), array([50, 60, 45,  0]), array([48, 53, 42,  0]), array([66, 74, 61,  0]), array([76, 90, 74,  0]), array([55, 76, 57,  0]), array([113, 144, 122,   0]), array([117, 154, 130,   0]), array([ 93, 137, 112,   0]), array([ 80, 125,  99,   0]), array([50, 94, 67,  0]), array([30, 69, 43,  0]), array([33, 59, 37,  0]), array([28, 54, 34,  0]), array([38, 66, 44,  0]), array([53, 77, 52,  0]), array([25, 48, 24,  0]), array([52, 72, 49,  0]), array([52, 66, 46,  0]), array([40, 50, 32,  0]), array([40, 50, 33,  0]), array([52, 64, 50,  0]), array([30, 48, 35,  0]), array([69, 96, 82,  0]), array([ 92, 139, 122,   0]), array([100, 162, 142,   0]), array([ 93, 155, 137,   0]), array([ 99, 163, 145,   0]), array([ 71, 141, 120,   0]), array([ 81, 149, 128,   0]), array([ 77, 137, 114,   0]), array([ 57, 103,  80,   0]), array([31, 63, 41,  0]), array([32, 58, 35,  0]), array([60, 90, 65,  0]), array([102, 150, 127,   0]), array([ 65, 119,  99,   0]), array([46, 99, 78,  0]), array([49, 85, 62,  0]), array([ 70, 100,  77,   0]), array([34, 62, 39,  0]), array([47, 72, 49,  0]), array([63, 87, 64,  0]), array([ 81, 105,  81,   0]), array([67, 92, 70,  0]), array([59, 89, 66,  0]), array([51, 82, 60,  0]), array([39, 58, 42,  0]), array([45, 61, 47,  0]), array([38, 63, 43,  0]), array([ 72, 101,  77,   0]), array([72, 97, 75,  0]), array([39, 62, 42,  0]), array([52, 73, 56,  0]), array([68, 91, 76,  0]), array([36, 63, 47,  0]), array([ 71, 101,  84,   0]), array([52, 84, 65,  0]), array([46, 81, 57,  0]), array([32, 76, 47,  0]), array([102, 151, 125,   0]), array([ 95, 159, 137,   0]), array([ 85, 148, 126,   0]), array([ 94, 149, 128,   0]), array([ 93, 140, 119,   0]), array([ 67, 109,  88,   0]), array([49, 88, 65,  0]), array([35, 72, 50,  0]), array([40, 76, 53,  0]), array([ 89, 123,  99,   0]), array([37, 76, 50,  0]), array([ 67, 111,  84,   0]), array([33, 73, 47,  0]), array([32, 68, 43,  0]), array([16, 57, 31,  0]), array([ 0, 43, 17,  0]), array([ 62, 104,  79,   0]), array([40, 76, 52,  0]), array([29, 56, 35,  0]), array([34, 54, 36,  0]), array([19, 36, 19,  0]), array([21, 32, 18,  0]), array([26, 31, 20,  0]), array([59, 72, 59,  0]), array([65, 99, 76,  0]), array([41, 83, 56,  0]), array([ 95, 136, 109,   0]), array([ 77, 114,  89,   0]), array([56, 90, 67,  0]), array([ 67, 100,  77,   0])]\n"
     ]
    }
   ],
   "source": [
    "red_image= cv2.imread('./red.png')\n",
    "green_image= cv2.imread('./green.png')\n",
    "\n",
    "coordinate = pd.read_csv('./coordinate.csv', header = None)\n",
    "coordinate = coordinate.values\n",
    "\n",
    "bgr = []\n",
    "for i in range(0, 120, 1):\n",
    "    bgr.append(np.append(red_image[coordinate[i][1], coordinate[i][0], :], 1))\n",
    "\n",
    "for i in range(0, 120, 1):\n",
    "    bgr.append(np.append(green_image[coordinate[i][1], coordinate[i][0], :], 0))\n",
    "\n",
    "np.delete(bgr, 0, axis=0)\n",
    "\n",
    "print(bgr)\n",
    "\n",
    "with open('./help_bgr.csv', 'w') as file:\n",
    "    writer = csv.writer(file, lineterminator='\\n')\n",
    "    writer.writerows(bgr)"
   ]
  },
  {
   "cell_type": "code",
   "execution_count": 3,
   "metadata": {},
   "outputs": [],
   "source": [
    "bgr_array = cv2.imread('./test.jpg')\n",
    "answer = pd.read_csv('./test.csv', header = None)\n",
    "answer = answer.values\n",
    "answer_bgr = []\n",
    "for i in range(11):\n",
    "    answer_bgr.append(np.append(bgr_array[answer[i][1], answer[i][0], :], 0))\n",
    "for i in range(11,22):\n",
    "    answer_bgr.append(np.append(bgr_array[answer[i][1], answer[i][0], :], 1))\n",
    "\n",
    "np.delete(answer_bgr, 0, axis=0)\n",
    "\n",
    "with open('./answer_bgr.csv', 'w') as file:\n",
    "    writer = csv.writer(file, lineterminator='\\n')\n",
    "    writer.writerows(bgr)"
   ]
  },
  {
   "cell_type": "code",
   "execution_count": 4,
   "metadata": {},
   "outputs": [
    {
     "name": "stdout",
     "output_type": "stream",
     "text": [
      "予測結果 \n",
      " 紅葉ではない:[1 1 1 1 1 1 1 1 1 1 1] \n",
      " 紅葉:[1 1 1 1 1 1 1 1 1 1 1 1 1 1 1 1 1 1 1 1 1 1 1 1 1 1 1 1 1 1 1 1 1 1 1 1 1\n",
      " 1 1 1 1 1 1 1 1 1 1 1 1 1 1 1 1 1 1 1 1 1 1 1 1 1 1 1 1 1 1 1 1 1 1 1 1 1\n",
      " 1 1 1 1 1 1 1 1 1 1 1 1 1 1 1 1 1 1 1 1 1 1 1 1 1 1 1 1 1 1 1 1 1 1 1 0 0\n",
      " 0 0 0 0 0 0 0 0 0 0 0 0 0 0 0 0 0 0 0 0 0 0 0 0 0 0 0 0 0 0 0 0 0 0 0 0 0\n",
      " 0 0 0 0 0 0 0 0 0 0 0 0 0 0 0 0 0 0 0 0 0 0 0 0 0 0 0 0 0 0 0 0 0 0 0 0 0\n",
      " 0 0 0 0 0 0 0 0 0 0 0 0 0 0 0 0 0 0 0 0 0 0 0 0 0 0 0 0 0 0 0 0 0 0 0 0 0\n",
      " 0 0 0 0 0 0 0]\n",
      "Accuracy on training set: 1.000\n",
      "Accuracy on test set: 1.000\n",
      "Max on training set: 1.000\n"
     ]
    }
   ],
   "source": [
    "data = pd.read_csv('./help_bgr.csv', header = None)\n",
    "test = pd.read_csv('./answer_bgr.csv', header = None)\n",
    "data = data.values\n",
    "test = test.values\n",
    "X_data = data[:,:-1]\n",
    "y_data = data[:,-1]\n",
    "X_test = test[:,:-1]\n",
    "y_test = test[:,-1]\n",
    "\n",
    "sum_train = 0\n",
    "sum_test = 0\n",
    "max_test = 0\n",
    "\n",
    "for i in range(50):\n",
    "    mlp = MLPClassifier(solver = \"lbfgs\", max_iter = 500, hidden_layer_sizes = [10]).fit(X_data, y_data)\n",
    "    predict = mlp.predict(X_test)\n",
    "    predict_sea = predict[0:11]\n",
    "    predict_land = predict[11:]\n",
    "    if max_test < mlp.score(X_test, y_test):\n",
    "        max_test = mlp.score(X_test, y_test)\n",
    "    sum_train += mlp.score(X_data, y_data)\n",
    "    sum_test += mlp.score(X_test, y_test)\n",
    "\n",
    "predict = mlp.predict(X_test)\n",
    "predict_sea = predict[0:11]\n",
    "predict_land = predict[11:]\n",
    "\n",
    "print(\"予測結果 \\n 紅葉ではない:{} \\n 紅葉:{}\".format(predict_sea, predict_land))\n",
    "print(\"Accuracy on training set: {:.3f}\".format(sum_train/50))\n",
    "print(\"Accuracy on test set: {:.3f}\".format(sum_test/50))\n",
    "print(\"Max on training set: {:.3f}\".format(max_test))\n",
    "# print(\"F1 score: {:.4f}\".format(f1_score(y_test, predict)))"
   ]
  },
  {
   "cell_type": "code",
   "execution_count": 5,
   "metadata": {},
   "outputs": [
    {
     "name": "stdout",
     "output_type": "stream",
     "text": [
      "紅葉の割合 66.350%\n"
     ]
    }
   ],
   "source": [
    "product1_image= cv2.imread('./test.jpg')\n",
    "data = pd.read_csv('./help_bgr.csv', header = None)\n",
    "resize_image = cv2.resize(product1_image, (1920, 1080))\n",
    "height, width, channels = resize_image.shape[:3]\n",
    "\n",
    "product1_bgr = np.empty((0, 3))\n",
    "for i in range(1, height, 5):\n",
    "    for j in range(1, width, 5):\n",
    "        tmp = np.array(resize_image[i, j, :])\n",
    "        product1_bgr = np.append(product1_bgr, np.array([tmp]), axis = 0)\n",
    "    \n",
    "data = data.values\n",
    "\n",
    "X_data = data[:,:-1]\n",
    "y_data = data[:,-1]\n",
    "X_test = product1_bgr\n",
    "cell = int((width * height) / 25)\n",
    "\n",
    "mlp = MLPClassifier(solver = \"lbfgs\", max_iter = 500, hidden_layer_sizes = [10]).fit(X_data, y_data)\n",
    "predict = mlp.predict(X_test)\n",
    "predict_sum = sum(predict)\n",
    "\n",
    "forest_per = 1 - (predict_sum / cell)\n",
    "\n",
    "print(\"紅葉の割合 {:.3f}%\".format(forest_per * 100))"
   ]
  },
  {
   "cell_type": "code",
   "execution_count": 6,
   "metadata": {},
   "outputs": [],
   "source": [
    "train = pd.read_csv('./help_bgr.csv', header = None)\n",
    "train = train.values\n",
    "\n",
    "B = train[:,0]\n",
    "G = train[:,1]\n",
    "R = train[:,2]"
   ]
  },
  {
   "cell_type": "code",
   "execution_count": 7,
   "metadata": {},
   "outputs": [
    {
     "data": {
      "text/plain": [
       "<matplotlib.collections.PathCollection at 0x7fe7d7c3d5e0>"
      ]
     },
     "execution_count": 7,
     "metadata": {},
     "output_type": "execute_result"
    },
    {
     "data": {
      "image/png": "[encoded data removed]",
      "text/plain": [
       "<Figure size 432x288 with 1 Axes>"
      ]
     },
     "metadata": {
      "needs_background": "light"
     },
     "output_type": "display_data"
    }
   ],
   "source": [
    "B_0 = B[:120]\n",
    "B_1 = B[120:]\n",
    "R_0 = R[:120]\n",
    "R_1 = R[120:]\n",
    "plt.scatter(R_0,B_0)\n",
    "plt.scatter(R_1,B_1, c=\"red\")"
   ]
  },
  {
   "cell_type": "code",
   "execution_count": 8,
   "metadata": {},
   "outputs": [
    {
     "data": {
      "text/plain": [
       "<matplotlib.collections.PathCollection at 0x7fe7d78b1b80>"
      ]
     },
     "execution_count": 8,
     "metadata": {},
     "output_type": "execute_result"
    },
    {
     "data": {
      "image/png": "[encoded data removed]",
      "text/plain": [
       "<Figure size 432x288 with 1 Axes>"
      ]
     },
     "metadata": {
      "needs_background": "light"
     },
     "output_type": "display_data"
    }
   ],
   "source": [
    "G_0 = G[:120]\n",
    "G_1 = G[120:]\n",
    "R_0 = R[:120]\n",
    "R_1 = R[120:]\n",
    "plt.scatter(R_0,G_0)\n",
    "plt.scatter(R_1,G_1, c=\"red\")"
   ]
  },
  {
   "cell_type": "code",
   "execution_count": 9,
   "metadata": {},
   "outputs": [
    {
     "data": {
      "text/plain": [
       "<matplotlib.collections.PathCollection at 0x7fe7d782ef10>"
      ]
     },
     "execution_count": 9,
     "metadata": {},
     "output_type": "execute_result"
    },
    {
     "data": {
      "image/png": "[encoded data removed]",
      "text/plain": [
       "<Figure size 432x288 with 1 Axes>"
      ]
     },
     "metadata": {
      "needs_background": "light"
     },
     "output_type": "display_data"
    }
   ],
   "source": [
    "G_0 = G[:120]\n",
    "G_1 = G[120:]\n",
    "B_0 = B[:120]\n",
    "B_1 = B[120:]\n",
    "plt.scatter(B_0,G_0)\n",
    "plt.scatter(B_1,G_1, c=\"red\")"
   ]
  }
 ],
 "metadata": {
  "kernelspec": {
   "display_name": "Python 3",
   "language": "python",
   "name": "python3"
  },
  "language_info": {
   "codemirror_mode": {
    "name": "ipython",
    "version": 3
   },
   "file_extension": ".py",
   "mimetype": "text/x-python",
   "name": "python",
   "nbconvert_exporter": "python",
   "pygments_lexer": "ipython3",
   "version": "3.8.10"
  }
 },
 "nbformat": 4,
 "nbformat_minor": 4
}
