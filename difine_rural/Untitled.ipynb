{
 "cells": [
  {
   "cell_type": "code",
   "execution_count": 1,
   "metadata": {},
   "outputs": [],
   "source": [
    "import pandas as pd\n",
    "import numpy as np\n",
    "import cv2\n",
    "import csv"
   ]
  },
  {
   "cell_type": "code",
   "execution_count": 2,
   "metadata": {},
   "outputs": [],
   "source": [
    "city1_image= cv2.imread('city1.jpg')\n",
    "city2_image= cv2.imread('city2.jpg')\n",
    "forest1_image = cv2.imread('forest1.jpg')\n",
    "forest2_image = cv2.imread('forest2.jpg')\n",
    "\n",
    "coordinate = pd.read_csv('./coordinate.csv', header = None)\n",
    "coordinate = coordinate.values\n",
    "\n",
    "bgr = []\n",
    "for i in range(750):\n",
    "    bgr.append(np.append(city1_image[coordinate[i][1], coordinate[i][0], :], 1))\n",
    "\n",
    "for i in range(750):\n",
    "    bgr.append(np.append(city2_image[coordinate[i][1], coordinate[i][0], :], 1))\n",
    "    \n",
    "for i in range(750):\n",
    "    bgr.append(np.append(forest1_image[coordinate[i][1], coordinate[i][0], :], 0))\n",
    "    \n",
    "for i in range(750):\n",
    "    bgr.append(np.append(forest2_image[coordinate[i][1], coordinate[i][0], :], 0))\n",
    "\n",
    "with open('bgr.csv', 'w') as file:\n",
    "    writer = csv.writer(file, lineterminator='\\n')\n",
    "    writer.writerows(bgr)"
   ]
  },
  {
   "cell_type": "code",
   "execution_count": null,
   "metadata": {},
   "outputs": [],
   "source": []
  }
 ],
 "metadata": {
  "kernelspec": {
   "display_name": "Python 3",
   "language": "python",
   "name": "python3"
  },
  "language_info": {
   "codemirror_mode": {
    "name": "ipython",
    "version": 3
   },
   "file_extension": ".py",
   "mimetype": "text/x-python",
   "name": "python",
   "nbconvert_exporter": "python",
   "pygments_lexer": "ipython3",
   "version": "3.8.10"
  }
 },
 "nbformat": 4,
 "nbformat_minor": 4
}
