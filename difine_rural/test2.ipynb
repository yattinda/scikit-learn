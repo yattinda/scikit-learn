{
 "cells": [
  {
   "cell_type": "code",
   "execution_count": 1,
   "metadata": {},
   "outputs": [],
   "source": [
    "import pandas as pd\n",
    "import numpy as np\n",
    "import matplotlib.pyplot as plt\n",
    "import mglearn\n",
    "from sklearn.neural_network import MLPClassifier\n",
    "from sklearn.metrics import f1_score"
   ]
  },
  {
   "cell_type": "code",
   "execution_count": 2,
   "metadata": {},
   "outputs": [
    {
     "name": "stdout",
     "output_type": "stream",
     "text": [
      "Accuracy on training set: 0.987\n",
      "Accuracy on test set: 0.928\n",
      "Max on training set: 0.950\n"
     ]
    }
   ],
   "source": [
    "data = pd.read_csv('./data/bgr.csv', header = None)\n",
    "test = pd.read_csv('./data/answer2_bgr.csv', header = None)\n",
    "data = data.values\n",
    "test = test.values\n",
    "X_data = data[:,:-1]\n",
    "y_data = data[:,-1]\n",
    "X_test = test[:,:-1]\n",
    "y_test = test[:,-1]\n",
    "sum_train = 0\n",
    "sum_test = 0\n",
    "max_test = 0\n",
    "\n",
    "for i in range(50):\n",
    "    mlp = MLPClassifier(solver = \"lbfgs\", max_iter = 500, hidden_layer_sizes = [10]).fit(X_data, y_data)\n",
    "    predict = mlp.predict(X_test)\n",
    "    predict_sea = predict[0:10]\n",
    "    predict_land = predict[10:]\n",
    "    if max_test < mlp.score(X_test, y_test):\n",
    "        max_test = mlp.score(X_test, y_test)\n",
    "    sum_train += mlp.score(X_data, y_data)\n",
    "    sum_test += mlp.score(X_test, y_test)\n",
    "\n",
    "predict = mlp.predict(X_test)\n",
    "predict_sea = predict[0:10]\n",
    "predict_land = predict[10:]\n",
    "\n",
    "# print(\"予測結果 \\n sea:{} \\n land:{}\".format(predict_sea, predict_land))\n",
    "print(\"Accuracy on training set: {:.3f}\".format(sum_train/50))\n",
    "print(\"Accuracy on test set: {:.3f}\".format(sum_test/50))\n",
    "print(\"Max on training set: {:.3f}\".format(max_test))\n",
    "# print(\"F1 score: {:.4f}\".format(f1_score(y_test, predict)))"
   ]
  }
 ],
 "metadata": {
  "kernelspec": {
   "display_name": "Python 3",
   "language": "python",
   "name": "python3"
  },
  "language_info": {
   "codemirror_mode": {
    "name": "ipython",
    "version": 3
   },
   "file_extension": ".py",
   "mimetype": "text/x-python",
   "name": "python",
   "nbconvert_exporter": "python",
   "pygments_lexer": "ipython3",
   "version": "3.8.10"
  }
 },
 "nbformat": 4,
 "nbformat_minor": 4
}
