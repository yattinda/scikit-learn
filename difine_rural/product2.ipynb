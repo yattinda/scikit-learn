{
 "cells": [
  {
   "cell_type": "code",
   "execution_count": 1,
   "metadata": {},
   "outputs": [],
   "source": [
    "import pandas as pd\n",
    "import numpy as np\n",
    "import matplotlib.pyplot as plt\n",
    "import mglearn\n",
    "from sklearn.neural_network import MLPClassifier\n",
    "from sklearn.metrics import f1_score\n",
    "import cv2\n",
    "import csv"
   ]
  },
  {
   "cell_type": "code",
   "execution_count": 12,
   "metadata": {},
   "outputs": [
    {
     "name": "stderr",
     "output_type": "stream",
     "text": [
      "IOPub data rate exceeded.\n",
      "The notebook server will temporarily stop sending output\n",
      "to the client in order to avoid crashing it.\n",
      "To change this limit, set the config variable\n",
      "`--NotebookApp.iopub_data_rate_limit`.\n",
      "\n",
      "Current values:\n",
      "NotebookApp.iopub_data_rate_limit=1000000.0 (bytes/sec)\n",
      "NotebookApp.rate_limit_window=3.0 (secs)\n",
      "\n"
     ]
    }
   ],
   "source": [
    "product2_image= cv2.imread('./data/product2.jpg')\n",
    "data = pd.read_csv('./data/bgr.csv', header = None)\n",
    "height, width, channels = product2_image.shape[:3]\n",
    "\n",
    "bgr = []\n",
    "for i in range(height):\n",
    "    for j in range(width):\n",
    "        bgr.append(product2_image[i, j, :])\n",
    "        \n",
    "print(bgr)\n",
    "\n",
    "# with open('./data/product2.csv', 'w') as file:\n",
    "#     writer = csv.writer(file, lineterminator='\\n')\n",
    "#     writer.writerows(bgr)\n",
    "    \n",
    "# data = data.values\n",
    "\n",
    "# X_data = data[:,:-1]\n",
    "# y_data = data[:,-1]\n",
    "\n",
    "# sum_train = 0\n",
    "# sum_test = 0\n",
    "# max_test = 0\n",
    "\n",
    "# for i in range(50):\n",
    "#     mlp = MLPClassifier(solver = \"lbfgs\", max_iter = 500, hidden_layer_sizes = [10]).fit(X_data, y_data)\n",
    "#     predict = mlp.predict(X_test)\n",
    "#     predict_sea = predict[0:10]\n",
    "#     predict_land = predict[10:]\n",
    "#     if max_test < mlp.score(X_test, y_test):\n",
    "#         max_test = mlp.score(X_test, y_test)\n",
    "#     sum_train += mlp.score(X_data, y_data)\n",
    "#     sum_test += mlp.score(X_test, y_test)\n",
    "\n",
    "# predict = mlp.predict(X_test)\n",
    "# predict_sea = predict[0:10]\n",
    "# predict_land = predict[10:]\n",
    "\n",
    "# # print(\"予測結果 \\n sea:{} \\n land:{}\".format(predict_sea, predict_land))\n",
    "# print(\"Accuracy on training set: {:.3f}\".format(sum_train/50))\n",
    "# print(\"Accuracy on test set: {:.3f}\".format(sum_test/50))\n",
    "# print(\"Max on training set: {:.3f}\".format(max_test))\n",
    "# # print(\"F1 score: {:.4f}\".format(f1_score(y_test, predict)))"
   ]
  },
  {
   "cell_type": "code",
   "execution_count": null,
   "metadata": {},
   "outputs": [],
   "source": []
  }
 ],
 "metadata": {
  "kernelspec": {
   "display_name": "Python 3",
   "language": "python",
   "name": "python3"
  },
  "language_info": {
   "codemirror_mode": {
    "name": "ipython",
    "version": 3
   },
   "file_extension": ".py",
   "mimetype": "text/x-python",
   "name": "python",
   "nbconvert_exporter": "python",
   "pygments_lexer": "ipython3",
   "version": "3.8.10"
  }
 },
 "nbformat": 4,
 "nbformat_minor": 4
}
