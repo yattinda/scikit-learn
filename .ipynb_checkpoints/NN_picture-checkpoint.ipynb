{
 "cells": [
  {
   "cell_type": "code",
   "execution_count": 1,
   "metadata": {},
   "outputs": [],
   "source": [
    "from IPython.display import set_matplotlib_formats, display\n",
    "import pandas as pd\n",
    "import numpy as np\n",
    "import matplotlib.pyplot as plt\n",
    "import mglearn\n",
    "import graphviz\n",
    "from mglearn.tools import discrete_scatter\n",
    "from sklearn.neural_network import MLPClassifier\n",
    "import cv2\n",
    "import csv"
   ]
  },
  {
   "cell_type": "code",
   "execution_count": 2,
   "metadata": {
    "scrolled": true
   },
   "outputs": [],
   "source": [
    "bgr_array = cv2.imread('IMG_LEARN.jpg')\n",
    "sea = pd.read_csv('./sea.csv', header = None)\n",
    "land = pd.read_csv('./land.csv', header = None)\n",
    "sea = sea.values\n",
    "land = land.values\n",
    "bgr = []\n",
    "for i in range(100):\n",
    "#     print(np.append(bgr_array[sea[i][1], sea[i][0], :], 1))\n",
    "    bgr.append(np.append(bgr_array[sea[i][1], sea[i][0], :], 1))\n",
    "\n",
    "for i in range(100):\n",
    "#     print(np.append(bgr_array[land[i][1], land[i][0], :], 1))\n",
    "    bgr.append(np.append(bgr_array[land[i][1], land[i][0], :], 2))\n",
    "\n",
    "with open('bgr.csv', 'w') as file:\n",
    "    writer = csv.writer(file, lineterminator='\\n')\n",
    "    writer.writerows(bgr)"
   ]
  },
  {
   "cell_type": "code",
   "execution_count": 3,
   "metadata": {},
   "outputs": [],
   "source": [
    "bgr_array = cv2.imread('IMG_TEST.jpg')\n",
    "answer = pd.read_csv('./answer.csv', header = None)\n",
    "answer = answer.values\n",
    "bgr = []\n",
    "for i in range(5):\n",
    "    bgr.append(np.append(bgr_array[answer[i][1], answer[i][0], :], 1))\n",
    "for i in range(6,15):\n",
    "    bgr.append(np.append(bgr_array[answer[i][1], answer[i][0], :], 2))\n",
    "\n",
    "with open('answer_bgr.csv', 'w') as file:\n",
    "    writer = csv.writer(file, lineterminator='\\n')\n",
    "    writer.writerows(bgr)"
   ]
  },
  {
   "cell_type": "code",
   "execution_count": 4,
   "metadata": {},
   "outputs": [
    {
     "name": "stdout",
     "output_type": "stream",
     "text": [
      "予測結果 \n",
      " sea:[1 1 1 1 1] \n",
      " land:[2 2 2 2 2 2 2 2 2]\n",
      "Accuracy on training set: 1.000\n",
      "Accuracy on test set: 1.000\n"
     ]
    }
   ],
   "source": [
    "data = pd.read_csv('./bgr.csv', header = None)\n",
    "test = pd.read_csv('./answer_bgr.csv', header = None)\n",
    "data = data.values\n",
    "test = test.values\n",
    "X_data = data[:,:-1]\n",
    "y_data = data[:,-1]\n",
    "X_test = test[:,:-1]\n",
    "y_test = test[:,-1]\n",
    "mlp = MLPClassifier(solver = \"lbfgs\", random_state = 0,hidden_layer_sizes = [10]).fit(X_data, y_data)\n",
    "predict = mlp.predict(X_test)\n",
    "predict_sea = predict[0:5]\n",
    "predict_land = predict[5:]\n",
    "print(\"予測結果 \\n sea:{} \\n land:{}\".format(predict_sea, predict_land))\n",
    "print(\"Accuracy on training set: {:.3f}\".format(mlp.score(X_data, y_data)))\n",
    "print(\"Accuracy on test set: {:.3f}\".format(mlp.score(X_test, y_test)))\n"
   ]
  },
  {
   "cell_type": "code",
   "execution_count": 5,
   "metadata": {},
   "outputs": [
    {
     "name": "stdout",
     "output_type": "stream",
     "text": [
      "予測結果 \n",
      " sea:[1 2 2 2 2] \n",
      " land:[2 2 2 2 2 2 2 2 2]\n",
      "Accuracy on training set: 1.000\n",
      "Accuracy on test set: 0.714\n"
     ]
    },
    {
     "name": "stderr",
     "output_type": "stream",
     "text": [
      "/home/yattinda/.local/lib/python3.8/site-packages/sklearn/neural_network/_multilayer_perceptron.py:549: ConvergenceWarning: lbfgs failed to converge (status=1):\n",
      "STOP: TOTAL NO. of ITERATIONS REACHED LIMIT.\n",
      "\n",
      "Increase the number of iterations (max_iter) or scale the data as shown in:\n",
      "    https://scikit-learn.org/stable/modules/preprocessing.html\n",
      "  self.n_iter_ = _check_optimize_result(\"lbfgs\", opt_res, self.max_iter)\n"
     ]
    }
   ],
   "source": [
    "mlp = MLPClassifier(solver = \"lbfgs\", random_state = 0, hidden_layer_sizes = [10, 10]).fit(X_data, y_data)\n",
    "predict = mlp.predict(X_test)\n",
    "predict_sea = predict[0:5]\n",
    "predict_land = predict[5:]\n",
    "print(\"予測結果 \\n sea:{} \\n land:{}\".format(predict_sea, predict_land))\n",
    "print(\"Accuracy on training set: {:.3f}\".format(mlp.score(X_data, y_data)))\n",
    "print(\"Accuracy on test set: {:.3f}\".format(mlp.score(X_test, y_test)))"
   ]
  },
  {
   "cell_type": "code",
   "execution_count": 6,
   "metadata": {},
   "outputs": [
    {
     "name": "stdout",
     "output_type": "stream",
     "text": [
      "予測結果 \n",
      " sea:[1 2 2 2 2] \n",
      " land:[2 2 1 2 2 2 2 2 2]\n",
      "Accuracy on training set: 0.985\n",
      "Accuracy on test set: 0.643\n"
     ]
    }
   ],
   "source": [
    "mlp = MLPClassifier(solver = \"lbfgs\", random_state = 0, hidden_layer_sizes = [10, 10, 10]).fit(X_data, y_data)\n",
    "predict = mlp.predict(X_test)\n",
    "predict_sea = predict[0:5]\n",
    "predict_land = predict[5:]\n",
    "print(\"予測結果 \\n sea:{} \\n land:{}\".format(predict_sea, predict_land))\n",
    "print(\"Accuracy on training set: {:.3f}\".format(mlp.score(X_data, y_data)))\n",
    "print(\"Accuracy on test set: {:.3f}\".format(mlp.score(X_test, y_test)))"
   ]
  },
  {
   "cell_type": "code",
   "execution_count": 7,
   "metadata": {},
   "outputs": [
    {
     "name": "stdout",
     "output_type": "stream",
     "text": [
      "予測結果 \n",
      " sea:[1 2 2 2 2] \n",
      " land:[2 2 1 2 2 2 2 2 2]\n",
      "Accuracy on training set: 0.995\n",
      "Accuracy on test set: 0.643\n"
     ]
    }
   ],
   "source": [
    "mlp = MLPClassifier(solver = \"lbfgs\", random_state = 0, hidden_layer_sizes = [100]).fit(X_data, y_data)\n",
    "predict = mlp.predict(X_test)\n",
    "predict_sea = predict[0:5]\n",
    "predict_land = predict[5:]\n",
    "print(\"予測結果 \\n sea:{} \\n land:{}\".format(predict_sea, predict_land))\n",
    "print(\"Accuracy on training set: {:.3f}\".format(mlp.score(X_data, y_data)))\n",
    "print(\"Accuracy on test set: {:.3f}\".format(mlp.score(X_test, y_test)))"
   ]
  },
  {
   "cell_type": "code",
   "execution_count": 8,
   "metadata": {},
   "outputs": [
    {
     "name": "stdout",
     "output_type": "stream",
     "text": [
      "予測結果 \n",
      " sea:[1 1 1 1 1] \n",
      " land:[2 2 1 2 2 2 2 2 2]\n",
      "Accuracy on training set: 0.995\n",
      "Accuracy on test set: 0.929\n"
     ]
    }
   ],
   "source": [
    "mlp = MLPClassifier(solver = \"lbfgs\", random_state = 0, hidden_layer_sizes = [100, 100]).fit(X_data, y_data)\n",
    "predict = mlp.predict(X_test)\n",
    "predict_sea = predict[0:5]\n",
    "predict_land = predict[5:]\n",
    "print(\"予測結果 \\n sea:{} \\n land:{}\".format(predict_sea, predict_land))\n",
    "print(\"Accuracy on training set: {:.3f}\".format(mlp.score(X_data, y_data)))\n",
    "print(\"Accuracy on test set: {:.3f}\".format(mlp.score(X_test, y_test)))"
   ]
  },
  {
   "cell_type": "code",
   "execution_count": 9,
   "metadata": {},
   "outputs": [
    {
     "name": "stdout",
     "output_type": "stream",
     "text": [
      "予測結果 \n",
      " sea:[2 2 2 2 2] \n",
      " land:[2 2 1 2 2 2 2 2 2]\n",
      "Accuracy on training set: 0.995\n",
      "Accuracy on test set: 0.571\n"
     ]
    }
   ],
   "source": [
    "mlp = MLPClassifier(solver = \"lbfgs\", random_state = 0, hidden_layer_sizes = [100, 100, 100]).fit(X_data, y_data)\n",
    "predict = mlp.predict(X_test)\n",
    "predict_sea = predict[0:5]\n",
    "predict_land = predict[5:]\n",
    "print(\"予測結果 \\n sea:{} \\n land:{}\".format(predict_sea, predict_land))\n",
    "print(\"Accuracy on training set: {:.3f}\".format(mlp.score(X_data, y_data)))\n",
    "print(\"Accuracy on test set: {:.3f}\".format(mlp.score(X_test, y_test)))"
   ]
  },
  {
   "cell_type": "markdown",
   "metadata": {},
   "source": []
  }
 ],
 "metadata": {
  "kernelspec": {
   "display_name": "Python 3",
   "language": "python",
   "name": "python3"
  },
  "language_info": {
   "codemirror_mode": {
    "name": "ipython",
    "version": 3
   },
   "file_extension": ".py",
   "mimetype": "text/x-python",
   "name": "python",
   "nbconvert_exporter": "python",
   "pygments_lexer": "ipython3",
   "version": "3.8.10"
  }
 },
 "nbformat": 4,
 "nbformat_minor": 4
}
