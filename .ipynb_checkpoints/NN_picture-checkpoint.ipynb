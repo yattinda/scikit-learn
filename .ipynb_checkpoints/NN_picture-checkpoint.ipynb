{
 "cells": [
  {
   "cell_type": "code",
   "execution_count": 48,
   "metadata": {},
   "outputs": [],
   "source": [
    "from IPython.display import set_matplotlib_formats, display\n",
    "import pandas as pd\n",
    "import numpy as np\n",
    "import matplotlib.pyplot as plt\n",
    "import mglearn\n",
    "import graphviz\n",
    "from mglearn.tools import discrete_scatter\n",
    "from sklearn.neural_network import MLPClassifier\n",
    "import cv2\n",
    "import csv"
   ]
  },
  {
   "cell_type": "code",
   "execution_count": 49,
   "metadata": {
    "scrolled": true
   },
   "outputs": [
    {
     "name": "stdout",
     "output_type": "stream",
     "text": [
      "[129 105  77]\n",
      "[118  97  66]\n",
      "[118 123 126]\n",
      "[109 119 129]\n",
      "[115 120 119]\n",
      "[127 102  70]\n",
      "[126 104  76]\n",
      "[73 62 58]\n",
      "[85 73 71]\n",
      "[93 88 85]\n",
      "[134 124 124]\n",
      "[123 102  70]\n",
      "[126 101  67]\n",
      "[130 104  74]\n",
      "[130 102  71]\n"
     ]
    }
   ],
   "source": [
    "bgr_array = cv2.imread('IMG_LEARN.jpg')\n",
    "coordinates = pd.read_csv('./coordinates.csv', header = None)\n",
    "coordinates = coordinates.values\n",
    "bgr = []\n",
    "for i in range(15):\n",
    "    print(bgr_array[coordinates[i][1], coordinates[i][0], :])\n",
    "    bgr.append(bgr_array[coordinates[i][1], coordinates[i][0], :])\n",
    "\n",
    "with open('data.csv', 'w') as file:\n",
    "    writer = csv.writer(file, lineterminator='\\n')\n",
    "    writer.writerows(bgr)"
   ]
  },
  {
   "cell_type": "code",
   "execution_count": 50,
   "metadata": {},
   "outputs": [],
   "source": [
    "data = pd.read_csv('./data.csv', header = None)\n",
    "data = data.values\n",
    "X = data[:,:-1]\n",
    "y = data[:,-1]\n",
    "mlp = MLPClassifier(solver = \"lbfgs\", random_state = 0, hidden_layer_sizes = [10]).fit(X, y)"
   ]
  },
  {
   "cell_type": "code",
   "execution_count": null,
   "metadata": {},
   "outputs": [],
   "source": [
    "bgr_array = cv2.imread('IMG_LEARN.jpg')\n",
    "coordinates = pd.read_csv('./coordinates.csv', header = None)\n",
    "coordinates = coordinates.values\n",
    "bgr = []\n",
    "for i in range(15):\n",
    "    print(bgr_array[coordinates[i][1], coordinates[i][0], :])\n",
    "    bgr.append(bgr_array[coordinates[i][1], coordinates[i][0], :])\n",
    "\n",
    "with open('data.csv', 'w') as file:\n",
    "    writer = csv.writer(file, lineterminator='\\n')\n",
    "    writer.writerows(bgr)"
   ]
  }
 ],
 "metadata": {
  "kernelspec": {
   "display_name": "Python 3",
   "language": "python",
   "name": "python3"
  },
  "language_info": {
   "codemirror_mode": {
    "name": "ipython",
    "version": 3
   },
   "file_extension": ".py",
   "mimetype": "text/x-python",
   "name": "python",
   "nbconvert_exporter": "python",
   "pygments_lexer": "ipython3",
   "version": "3.8.10"
  }
 },
 "nbformat": 4,
 "nbformat_minor": 4
}
